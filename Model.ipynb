{
 "cells": [
  {
   "cell_type": "code",
   "execution_count": 1,
   "metadata": {},
   "outputs": [],
   "source": [
    "using DataFrames"
   ]
  },
  {
   "cell_type": "code",
   "execution_count": 2,
   "metadata": {},
   "outputs": [],
   "source": [
    "using CSV"
   ]
  },
  {
   "cell_type": "code",
   "execution_count": 3,
   "metadata": {},
   "outputs": [],
   "source": [
    "using Plots"
   ]
  },
  {
   "cell_type": "code",
   "execution_count": 53,
   "metadata": {},
   "outputs": [
    {
     "data": {
      "text/html": [
       "<table class=\"data-frame\"><thead><tr><th></th><th>Department</th><th>Interest in Programming</th><th>Interest in Data Base</th><th>Interest in Math/statistics</th></tr><tr><th></th><th>String</th><th>String</th><th>String</th><th>String</th></tr></thead><tbody><p>47 rows × 8 columns (omitted printing of 4 columns)</p><tr><th>1</th><td>Computer Science</td><td>YES</td><td>YES</td><td>YES</td></tr><tr><th>2</th><td>Computer Science</td><td>YES</td><td>YES</td><td>YES</td></tr><tr><th>3</th><td>Computer Science</td><td>YES</td><td>YES</td><td>No</td></tr><tr><th>4</th><td>Computer Science</td><td>YES</td><td>No</td><td>No</td></tr><tr><th>5</th><td>Informatics</td><td>YES</td><td>YES</td><td>YES</td></tr><tr><th>6</th><td>Computer Science</td><td>YES</td><td>YES</td><td>No</td></tr><tr><th>7</th><td>Computer Science</td><td>YES</td><td>YES</td><td>YES</td></tr><tr><th>8</th><td>Informatics</td><td>No</td><td>YES</td><td>No</td></tr><tr><th>9</th><td>Computer Science</td><td>No</td><td>YES</td><td>YES</td></tr><tr><th>10</th><td>Informatics</td><td>YES</td><td>No</td><td>No</td></tr><tr><th>11</th><td>Computer Science</td><td>YES</td><td>YES</td><td>No</td></tr><tr><th>12</th><td>Informatics</td><td>No</td><td>YES</td><td>No</td></tr><tr><th>13</th><td>Computer Science</td><td>YES</td><td>YES</td><td>YES</td></tr><tr><th>14</th><td>Informatics</td><td>YES</td><td>YES</td><td>No</td></tr><tr><th>15</th><td>Computer Science</td><td>YES</td><td>YES</td><td>YES</td></tr><tr><th>16</th><td>Informatics</td><td>YES</td><td>YES</td><td>YES</td></tr><tr><th>17</th><td>Computer Science</td><td>YES</td><td>YES</td><td>YES</td></tr><tr><th>18</th><td>Informatics</td><td>YES</td><td>No</td><td>YES</td></tr><tr><th>19</th><td>Computer Science</td><td>YES</td><td>YES</td><td>No</td></tr><tr><th>20</th><td>Computer Science</td><td>YES</td><td>YES</td><td>No</td></tr><tr><th>21</th><td>Computer Science</td><td>YES</td><td>YES</td><td>No</td></tr><tr><th>22</th><td>Computer Science</td><td>YES</td><td>YES</td><td>YES</td></tr><tr><th>23</th><td>Computer Science</td><td>YES</td><td>YES</td><td>YES</td></tr><tr><th>24</th><td>Informatics</td><td>YES</td><td>No</td><td>YES</td></tr><tr><th>25</th><td>Computer Science</td><td>YES</td><td>YES</td><td>No</td></tr><tr><th>26</th><td>Computer Science</td><td>No</td><td>No</td><td>YES</td></tr><tr><th>27</th><td>Informatics</td><td>YES</td><td>YES</td><td>YES</td></tr><tr><th>28</th><td>Informatics</td><td>No</td><td>No</td><td>No</td></tr><tr><th>29</th><td>Computer Science</td><td>YES</td><td>YES</td><td>No</td></tr><tr><th>30</th><td>Computer Science</td><td>YES</td><td>YES</td><td>No</td></tr><tr><th>&vellip;</th><td>&vellip;</td><td>&vellip;</td><td>&vellip;</td><td>&vellip;</td></tr></tbody></table>"
      ],
      "text/latex": [
       "\\begin{tabular}{r|ccccc}\n",
       "\t& Department & Interest in Programming & Interest in Data Base & Interest in Math/statistics & \\\\\n",
       "\t\\hline\n",
       "\t& String & String & String & String & \\\\\n",
       "\t\\hline\n",
       "\t1 & Computer Science & YES & YES & YES & $\\dots$ \\\\\n",
       "\t2 & Computer Science & YES & YES & YES & $\\dots$ \\\\\n",
       "\t3 & Computer Science & YES & YES & No & $\\dots$ \\\\\n",
       "\t4 & Computer Science & YES & No & No & $\\dots$ \\\\\n",
       "\t5 & Informatics & YES & YES & YES & $\\dots$ \\\\\n",
       "\t6 & Computer Science & YES & YES & No & $\\dots$ \\\\\n",
       "\t7 & Computer Science & YES & YES & YES & $\\dots$ \\\\\n",
       "\t8 & Informatics & No & YES & No & $\\dots$ \\\\\n",
       "\t9 & Computer Science & No & YES & YES & $\\dots$ \\\\\n",
       "\t10 & Informatics & YES & No & No & $\\dots$ \\\\\n",
       "\t11 & Computer Science & YES & YES & No & $\\dots$ \\\\\n",
       "\t12 & Informatics & No & YES & No & $\\dots$ \\\\\n",
       "\t13 & Computer Science & YES & YES & YES & $\\dots$ \\\\\n",
       "\t14 & Informatics & YES & YES & No & $\\dots$ \\\\\n",
       "\t15 & Computer Science & YES & YES & YES & $\\dots$ \\\\\n",
       "\t16 & Informatics & YES & YES & YES & $\\dots$ \\\\\n",
       "\t17 & Computer Science & YES & YES & YES & $\\dots$ \\\\\n",
       "\t18 & Informatics & YES & No & YES & $\\dots$ \\\\\n",
       "\t19 & Computer Science & YES & YES & No & $\\dots$ \\\\\n",
       "\t20 & Computer Science & YES & YES & No & $\\dots$ \\\\\n",
       "\t21 & Computer Science & YES & YES & No & $\\dots$ \\\\\n",
       "\t22 & Computer Science & YES & YES & YES & $\\dots$ \\\\\n",
       "\t23 & Computer Science & YES & YES & YES & $\\dots$ \\\\\n",
       "\t24 & Informatics & YES & No & YES & $\\dots$ \\\\\n",
       "\t25 & Computer Science & YES & YES & No & $\\dots$ \\\\\n",
       "\t26 & Computer Science & No & No & YES & $\\dots$ \\\\\n",
       "\t27 & Informatics & YES & YES & YES & $\\dots$ \\\\\n",
       "\t28 & Informatics & No & No & No & $\\dots$ \\\\\n",
       "\t29 & Computer Science & YES & YES & No & $\\dots$ \\\\\n",
       "\t30 & Computer Science & YES & YES & No & $\\dots$ \\\\\n",
       "\t$\\dots$ & $\\dots$ & $\\dots$ & $\\dots$ & $\\dots$ &  \\\\\n",
       "\\end{tabular}\n"
      ],
      "text/plain": [
       "47×8 DataFrame. Omitted printing of 5 columns\n",
       "│ Row │ Department       │ Interest in Programming │ Interest in Data Base │\n",
       "│     │ \u001b[90mString\u001b[39m           │ \u001b[90mString\u001b[39m                  │ \u001b[90mString\u001b[39m                │\n",
       "├─────┼──────────────────┼─────────────────────────┼───────────────────────┤\n",
       "│ 1   │ Computer Science │ YES                     │ YES                   │\n",
       "│ 2   │ Computer Science │ YES                     │ YES                   │\n",
       "│ 3   │ Computer Science │ YES                     │ YES                   │\n",
       "│ 4   │ Computer Science │ YES                     │ No                    │\n",
       "│ 5   │ Informatics      │ YES                     │ YES                   │\n",
       "│ 6   │ Computer Science │ YES                     │ YES                   │\n",
       "│ 7   │ Computer Science │ YES                     │ YES                   │\n",
       "│ 8   │ Informatics      │ No                      │ YES                   │\n",
       "│ 9   │ Computer Science │ No                      │ YES                   │\n",
       "│ 10  │ Informatics      │ YES                     │ No                    │\n",
       "⋮\n",
       "│ 37  │ Computer Science │ YES                     │ YES                   │\n",
       "│ 38  │ Informatics      │ YES                     │ YES                   │\n",
       "│ 39  │ Informatics      │ No                      │ YES                   │\n",
       "│ 40  │ Computer Science │ YES                     │ YES                   │\n",
       "│ 41  │ Informatics      │ YES                     │ YES                   │\n",
       "│ 42  │ Computer Science │ YES                     │ YES                   │\n",
       "│ 43  │ Computer Science │ YES                     │ YES                   │\n",
       "│ 44  │ Informatics      │ YES                     │ YES                   │\n",
       "│ 45  │ Computer Science │ YES                     │ YES                   │\n",
       "│ 46  │ Computer Science │ YES                     │ YES                   │\n",
       "│ 47  │ Computer Science │ YES                     │ No                    │"
      ]
     },
     "execution_count": 53,
     "metadata": {},
     "output_type": "execute_result"
    }
   ],
   "source": [
    "df = CSV.read(\"dataset.csv\")\n",
    "df = select(df,Not(1,3,9,10,12,13)) # remove some columns"
   ]
  },
  {
   "cell_type": "code",
   "execution_count": 54,
   "metadata": {},
   "outputs": [
    {
     "data": {
      "text/plain": [
       "47×8 Array{Any,2}:\n",
       " \"Computer Science\"  \"YES\"  \"YES\"  \"YES\"  \"No\"   …  \"Programming 1\"         \n",
       " \"Computer Science\"  \"YES\"  \"YES\"  \"YES\"  \"YES\"     \"Artificial Inteligence\"\n",
       " \"Computer Science\"  \"YES\"  \"YES\"  \"No\"   \"YES\"     \"Data Structure\"        \n",
       " \"Computer Science\"  \"YES\"  \"No\"   \"No\"   \"No\"      \"Data Mining\"           \n",
       " \"Informatics\"       \"YES\"  \"YES\"  \"YES\"  \"YES\"     \"Database Fundamentals\" \n",
       " \"Computer Science\"  \"YES\"  \"YES\"  \"No\"   \"YES\"  …  \"Advanced Programming\"  \n",
       " \"Computer Science\"  \"YES\"  \"YES\"  \"YES\"  \"YES\"     \"Data Mining\"           \n",
       " \"Informatics\"       \"No\"   \"YES\"  \"No\"   \"YES\"     \"Database Fundamentals\" \n",
       " \"Computer Science\"  \"No\"   \"YES\"  \"YES\"  \"YES\"     \"Database Fundamentals\" \n",
       " \"Informatics\"       \"YES\"  \"No\"   \"No\"   \"YES\"     \"Intro to C Network\"    \n",
       " \"Computer Science\"  \"YES\"  \"YES\"  \"No\"   \"YES\"  …  \"Programming 2\"         \n",
       " \"Informatics\"       \"No\"   \"YES\"  \"No\"   \"YES\"     \"Database Fundamentals\" \n",
       " \"Computer Science\"  \"YES\"  \"YES\"  \"YES\"  \"YES\"     \"Data Mining\"           \n",
       " ⋮                                               ⋱                          \n",
       " \"Computer Science\"  \"YES\"  \"YES\"  \"No\"   \"YES\"  …  \"Intro to C Network\"    \n",
       " \"Computer Science\"  \"YES\"  \"YES\"  \"No\"   \"YES\"     \"Data Structure\"        \n",
       " \"Informatics\"       \"YES\"  \"YES\"  \"YES\"  \"YES\"     \"Web Dev Fundamentals\"  \n",
       " \"Informatics\"       \"No\"   \"YES\"  \"No\"   \"YES\"     \"Database Fundamentals\" \n",
       " \"Computer Science\"  \"YES\"  \"YES\"  \"No\"   \"YES\"     \"Intro to C Network\"    \n",
       " \"Informatics\"       \"YES\"  \"YES\"  \"YES\"  \"YES\"  …  \"Web Dev Fundamentals\"  \n",
       " \"Computer Science\"  \"YES\"  \"YES\"  \"YES\"  \"YES\"     \"Programming 1\"         \n",
       " \"Computer Science\"  \"YES\"  \"YES\"  \"YES\"  \"YES\"     \"Artificial Inteligence\"\n",
       " \"Informatics\"       \"YES\"  \"YES\"  \"YES\"  \"YES\"     \"Web Dev Fundamentals\"  \n",
       " \"Computer Science\"  \"YES\"  \"YES\"  \"YES\"  \"YES\"     \"Artificial Inteligence\"\n",
       " \"Computer Science\"  \"YES\"  \"YES\"  \"YES\"  \"YES\"  …  \"Artificial Inteligence\"\n",
       " \"Computer Science\"  \"YES\"  \"No\"   \"No\"   \"YES\"     \"IT System Security\"    "
      ]
     },
     "execution_count": 54,
     "metadata": {},
     "output_type": "execute_result"
    }
   ],
   "source": [
    "dataset = convert(Matrix{Any},df)"
   ]
  },
  {
   "cell_type": "code",
   "execution_count": 55,
   "metadata": {},
   "outputs": [
    {
     "data": {
      "text/plain": [
       "pValues (generic function with 1 method)"
      ]
     },
     "execution_count": 55,
     "metadata": {},
     "output_type": "execute_result"
    }
   ],
   "source": [
    "# get the list of possible values\n",
    "function pValues(column)\n",
    "    values = []\n",
    "    count = 0\n",
    "    for c in column\n",
    "        for v in values\n",
    "            if(c == v)\n",
    "                count = 1 + count\n",
    "            end\n",
    "        end\n",
    "        if(count == 0)\n",
    "            push!(values,c)\n",
    "        end\n",
    "        count = 0\n",
    "    end\n",
    "    return values\n",
    "end"
   ]
  },
  {
   "cell_type": "code",
   "execution_count": 56,
   "metadata": {},
   "outputs": [
    {
     "data": {
      "text/plain": [
       "categoricalData (generic function with 1 method)"
      ]
     },
     "execution_count": 56,
     "metadata": {},
     "output_type": "execute_result"
    }
   ],
   "source": [
    "\n",
    "# change strings to number\n",
    "function categoricalData(column,values)\n",
    "    for c in 1:size(column,1)\n",
    "        for i in 1:size(values,1)\n",
    "            if(column[c] == values[i])\n",
    "                column[c] = i\n",
    "            end\n",
    "        end\n",
    "    end\n",
    "    return column\n",
    "end"
   ]
  },
  {
   "cell_type": "code",
   "execution_count": 57,
   "metadata": {},
   "outputs": [
    {
     "data": {
      "text/plain": [
       "binaryData (generic function with 1 method)"
      ]
     },
     "execution_count": 57,
     "metadata": {},
     "output_type": "execute_result"
    }
   ],
   "source": [
    "# binary data\n",
    "function binaryData(column)\n",
    "    for i in 1:size(column,1)\n",
    "        if(column[i] == \"YES\")\n",
    "            column[i] = 1\n",
    "        else\n",
    "            column[i] = 0\n",
    "        end\n",
    "    end\n",
    "    return column\n",
    "end"
   ]
  },
  {
   "cell_type": "code",
   "execution_count": 58,
   "metadata": {},
   "outputs": [
    {
     "name": "stdout",
     "output_type": "stream",
     "text": [
      "Any[\"Programming 1\", \"Artificial Inteligence\", \"Data Structure\", \"Data Mining\", \"Database Fundamentals\", \"Advanced Programming\", \"Intro to C Network\", \"Programming 2\", \"Web Dev Fundamentals\", \"IT System Security\"]"
     ]
    },
    {
     "data": {
      "text/plain": [
       "47-element Array{Any,1}:\n",
       "  1\n",
       "  2\n",
       "  3\n",
       "  4\n",
       "  5\n",
       "  6\n",
       "  4\n",
       "  5\n",
       "  5\n",
       "  7\n",
       "  8\n",
       "  5\n",
       "  4\n",
       "  ⋮\n",
       "  7\n",
       "  3\n",
       "  9\n",
       "  5\n",
       "  7\n",
       "  9\n",
       "  1\n",
       "  2\n",
       "  9\n",
       "  2\n",
       "  2\n",
       " 10"
      ]
     },
     "execution_count": 58,
     "metadata": {},
     "output_type": "execute_result"
    }
   ],
   "source": [
    "#dataset[:,1] = categoricalData(dataset[:,1],pValues(dataset[:,1]))\n",
    "dataset[:,1] = categoricalData(dataset[:,1],pValues(dataset[:,1]))\n",
    "dataset[:,2] = binaryData(dataset[:,2])\n",
    "dataset[:,3] = binaryData(dataset[:,3])\n",
    "dataset[:,4] = binaryData(dataset[:,4])\n",
    "dataset[:,5] = binaryData(dataset[:,5])\n",
    "dataset[:,6] = binaryData(dataset[:,6])\n",
    "dataset[:,7] = categoricalData(dataset[:,7],pValues(dataset[:,7]))\n",
    "print(pValues(dataset[:,8]))\n",
    "dataset[:,8] = categoricalData(dataset[:,8],pValues(dataset[:,8]))\n"
   ]
  },
  {
   "cell_type": "code",
   "execution_count": 59,
   "metadata": {},
   "outputs": [
    {
     "data": {
      "text/plain": [
       "10×1 Array{Any,2}:\n",
       "  9\n",
       "  5\n",
       "  7\n",
       "  9\n",
       "  1\n",
       "  2\n",
       "  9\n",
       "  2\n",
       "  2\n",
       " 10"
      ]
     },
     "execution_count": 59,
     "metadata": {},
     "output_type": "execute_result"
    }
   ],
   "source": [
    "i = size(dataset,1)\n",
    "x = dataset[:,1:7]\n",
    "x_train = x[1:trunc(Int,i * 0.8),:]\n",
    "x_test = x[trunc(Int,i * 0.8)+1:i,:]\n",
    "\n",
    "y = dataset[:,8]\n",
    "y_train = y[1:trunc(Int,i * 0.8),:]\n",
    "y_test = y[trunc(Int,i * 0.8)+1:i,:]"
   ]
  },
  {
   "cell_type": "code",
   "execution_count": 60,
   "metadata": {},
   "outputs": [
    {
     "data": {
      "image/svg+xml": [
       "<?xml version=\"1.0\" encoding=\"utf-8\"?>\n",
       "<svg xmlns=\"http://www.w3.org/2000/svg\" xmlns:xlink=\"http://www.w3.org/1999/xlink\" width=\"600\" height=\"400\" viewBox=\"0 0 2400 1600\">\n",
       "<defs>\n",
       "  <clipPath id=\"clip700\">\n",
       "    <rect x=\"0\" y=\"0\" width=\"2400\" height=\"1600\"/>\n",
       "  </clipPath>\n",
       "</defs>\n",
       "<path clip-path=\"url(#clip700)\" d=\"\n",
       "M0 1600 L2400 1600 L2400 0 L0 0  Z\n",
       "  \" fill=\"#ffffff\" fill-rule=\"evenodd\" fill-opacity=\"1\"/>\n",
       "<defs>\n",
       "  <clipPath id=\"clip701\">\n",
       "    <rect x=\"480\" y=\"0\" width=\"1681\" height=\"1600\"/>\n",
       "  </clipPath>\n",
       "</defs>\n",
       "<path clip-path=\"url(#clip700)\" d=\"\n",
       "M136.76 1423.18 L2352.76 1423.18 L2352.76 123.472 L136.76 123.472  Z\n",
       "  \" fill=\"#ffffff\" fill-rule=\"evenodd\" fill-opacity=\"1\"/>\n",
       "<defs>\n",
       "  <clipPath id=\"clip702\">\n",
       "    <rect x=\"136\" y=\"123\" width=\"2217\" height=\"1301\"/>\n",
       "  </clipPath>\n",
       "</defs>\n",
       "<polyline clip-path=\"url(#clip702)\" style=\"stroke:#000000; stroke-width:2; stroke-opacity:0.1; fill:none\" points=\"\n",
       "  521.608,1423.18 521.608,123.472 \n",
       "  \"/>\n",
       "<polyline clip-path=\"url(#clip702)\" style=\"stroke:#000000; stroke-width:2; stroke-opacity:0.1; fill:none\" points=\"\n",
       "  916.053,1423.18 916.053,123.472 \n",
       "  \"/>\n",
       "<polyline clip-path=\"url(#clip702)\" style=\"stroke:#000000; stroke-width:2; stroke-opacity:0.1; fill:none\" points=\"\n",
       "  1310.5,1423.18 1310.5,123.472 \n",
       "  \"/>\n",
       "<polyline clip-path=\"url(#clip702)\" style=\"stroke:#000000; stroke-width:2; stroke-opacity:0.1; fill:none\" points=\"\n",
       "  1704.94,1423.18 1704.94,123.472 \n",
       "  \"/>\n",
       "<polyline clip-path=\"url(#clip702)\" style=\"stroke:#000000; stroke-width:2; stroke-opacity:0.1; fill:none\" points=\"\n",
       "  2099.39,1423.18 2099.39,123.472 \n",
       "  \"/>\n",
       "<polyline clip-path=\"url(#clip702)\" style=\"stroke:#000000; stroke-width:2; stroke-opacity:0.1; fill:none\" points=\"\n",
       "  136.76,1386.4 2352.76,1386.4 \n",
       "  \"/>\n",
       "<polyline clip-path=\"url(#clip702)\" style=\"stroke:#000000; stroke-width:2; stroke-opacity:0.1; fill:none\" points=\"\n",
       "  136.76,977.683 2352.76,977.683 \n",
       "  \"/>\n",
       "<polyline clip-path=\"url(#clip702)\" style=\"stroke:#000000; stroke-width:2; stroke-opacity:0.1; fill:none\" points=\"\n",
       "  136.76,568.969 2352.76,568.969 \n",
       "  \"/>\n",
       "<polyline clip-path=\"url(#clip702)\" style=\"stroke:#000000; stroke-width:2; stroke-opacity:0.1; fill:none\" points=\"\n",
       "  136.76,160.256 2352.76,160.256 \n",
       "  \"/>\n",
       "<polyline clip-path=\"url(#clip700)\" style=\"stroke:#000000; stroke-width:4; stroke-opacity:1; fill:none\" points=\"\n",
       "  136.76,1423.18 2352.76,1423.18 \n",
       "  \"/>\n",
       "<polyline clip-path=\"url(#clip700)\" style=\"stroke:#000000; stroke-width:4; stroke-opacity:1; fill:none\" points=\"\n",
       "  136.76,1423.18 136.76,123.472 \n",
       "  \"/>\n",
       "<polyline clip-path=\"url(#clip700)\" style=\"stroke:#000000; stroke-width:4; stroke-opacity:1; fill:none\" points=\"\n",
       "  521.608,1423.18 521.608,1407.58 \n",
       "  \"/>\n",
       "<polyline clip-path=\"url(#clip700)\" style=\"stroke:#000000; stroke-width:4; stroke-opacity:1; fill:none\" points=\"\n",
       "  916.053,1423.18 916.053,1407.58 \n",
       "  \"/>\n",
       "<polyline clip-path=\"url(#clip700)\" style=\"stroke:#000000; stroke-width:4; stroke-opacity:1; fill:none\" points=\"\n",
       "  1310.5,1423.18 1310.5,1407.58 \n",
       "  \"/>\n",
       "<polyline clip-path=\"url(#clip700)\" style=\"stroke:#000000; stroke-width:4; stroke-opacity:1; fill:none\" points=\"\n",
       "  1704.94,1423.18 1704.94,1407.58 \n",
       "  \"/>\n",
       "<polyline clip-path=\"url(#clip700)\" style=\"stroke:#000000; stroke-width:4; stroke-opacity:1; fill:none\" points=\"\n",
       "  2099.39,1423.18 2099.39,1407.58 \n",
       "  \"/>\n",
       "<polyline clip-path=\"url(#clip700)\" style=\"stroke:#000000; stroke-width:4; stroke-opacity:1; fill:none\" points=\"\n",
       "  136.76,1386.4 163.352,1386.4 \n",
       "  \"/>\n",
       "<polyline clip-path=\"url(#clip700)\" style=\"stroke:#000000; stroke-width:4; stroke-opacity:1; fill:none\" points=\"\n",
       "  136.76,977.683 163.352,977.683 \n",
       "  \"/>\n",
       "<polyline clip-path=\"url(#clip700)\" style=\"stroke:#000000; stroke-width:4; stroke-opacity:1; fill:none\" points=\"\n",
       "  136.76,568.969 163.352,568.969 \n",
       "  \"/>\n",
       "<polyline clip-path=\"url(#clip700)\" style=\"stroke:#000000; stroke-width:4; stroke-opacity:1; fill:none\" points=\"\n",
       "  136.76,160.256 163.352,160.256 \n",
       "  \"/>\n",
       "<path clip-path=\"url(#clip700)\" d=\"M 0 0 M494.305 1472.72 L501.944 1472.72 L501.944 1446.35 L493.633 1448.02 L493.633 1443.76 L501.897 1442.09 L506.573 1442.09 L506.573 1472.72 L514.212 1472.72 L514.212 1476.65 L494.305 1476.65 L494.305 1472.72 Z\" fill=\"#000000\" fill-rule=\"evenodd\" fill-opacity=\"1\" /><path clip-path=\"url(#clip700)\" d=\"M 0 0 M519.281 1470.77 L524.166 1470.77 L524.166 1476.65 L519.281 1476.65 L519.281 1470.77 Z\" fill=\"#000000\" fill-rule=\"evenodd\" fill-opacity=\"1\" /><path clip-path=\"url(#clip700)\" d=\"M 0 0 M533.263 1472.72 L549.582 1472.72 L549.582 1476.65 L527.638 1476.65 L527.638 1472.72 Q530.3 1469.96 534.883 1465.33 Q539.49 1460.68 540.67 1459.34 Q542.916 1456.81 543.795 1455.08 Q544.698 1453.32 544.698 1451.63 Q544.698 1448.87 542.754 1447.14 Q540.832 1445.4 537.73 1445.4 Q535.531 1445.4 533.078 1446.17 Q530.647 1446.93 527.869 1448.48 L527.869 1443.76 Q530.693 1442.62 533.147 1442.05 Q535.601 1441.47 537.638 1441.47 Q543.008 1441.47 546.203 1444.15 Q549.397 1446.84 549.397 1451.33 Q549.397 1453.46 548.587 1455.38 Q547.8 1457.28 545.693 1459.87 Q545.115 1460.54 542.013 1463.76 Q538.911 1466.95 533.263 1472.72 Z\" fill=\"#000000\" fill-rule=\"evenodd\" fill-opacity=\"1\" /><path clip-path=\"url(#clip700)\" d=\"M 0 0 M888.449 1472.72 L896.088 1472.72 L896.088 1446.35 L887.778 1448.02 L887.778 1443.76 L896.042 1442.09 L900.718 1442.09 L900.718 1472.72 L908.357 1472.72 L908.357 1476.65 L888.449 1476.65 L888.449 1472.72 Z\" fill=\"#000000\" fill-rule=\"evenodd\" fill-opacity=\"1\" /><path clip-path=\"url(#clip700)\" d=\"M 0 0 M913.426 1470.77 L918.31 1470.77 L918.31 1476.65 L913.426 1476.65 L913.426 1470.77 Z\" fill=\"#000000\" fill-rule=\"evenodd\" fill-opacity=\"1\" /><path clip-path=\"url(#clip700)\" d=\"M 0 0 M923.426 1442.09 L941.782 1442.09 L941.782 1446.03 L927.708 1446.03 L927.708 1454.5 Q928.727 1454.15 929.746 1453.99 Q930.764 1453.8 931.783 1453.8 Q937.57 1453.8 940.949 1456.98 Q944.329 1460.15 944.329 1465.56 Q944.329 1471.14 940.857 1474.24 Q937.384 1477.32 931.065 1477.32 Q928.889 1477.32 926.621 1476.95 Q924.375 1476.58 921.968 1475.84 L921.968 1471.14 Q924.051 1472.28 926.273 1472.83 Q928.496 1473.39 930.972 1473.39 Q934.977 1473.39 937.315 1471.28 Q939.653 1469.18 939.653 1465.56 Q939.653 1461.95 937.315 1459.85 Q934.977 1457.74 930.972 1457.74 Q929.097 1457.74 927.222 1458.16 Q925.371 1458.57 923.426 1459.45 L923.426 1442.09 Z\" fill=\"#000000\" fill-rule=\"evenodd\" fill-opacity=\"1\" /><path clip-path=\"url(#clip700)\" d=\"M 0 0 M1282.44 1472.72 L1290.08 1472.72 L1290.08 1446.35 L1281.77 1448.02 L1281.77 1443.76 L1290.04 1442.09 L1294.71 1442.09 L1294.71 1472.72 L1302.35 1472.72 L1302.35 1476.65 L1282.44 1476.65 L1282.44 1472.72 Z\" fill=\"#000000\" fill-rule=\"evenodd\" fill-opacity=\"1\" /><path clip-path=\"url(#clip700)\" d=\"M 0 0 M1307.42 1470.77 L1312.3 1470.77 L1312.3 1476.65 L1307.42 1476.65 L1307.42 1470.77 Z\" fill=\"#000000\" fill-rule=\"evenodd\" fill-opacity=\"1\" /><path clip-path=\"url(#clip700)\" d=\"M 0 0 M1327.37 1460.24 Q1324.04 1460.24 1322.12 1462.02 Q1320.22 1463.8 1320.22 1466.93 Q1320.22 1470.05 1322.12 1471.84 Q1324.04 1473.62 1327.37 1473.62 Q1330.71 1473.62 1332.63 1471.84 Q1334.55 1470.03 1334.55 1466.93 Q1334.55 1463.8 1332.63 1462.02 Q1330.73 1460.24 1327.37 1460.24 M1322.7 1458.25 Q1319.69 1457.51 1318 1455.45 Q1316.33 1453.39 1316.33 1450.43 Q1316.33 1446.28 1319.27 1443.87 Q1322.24 1441.47 1327.37 1441.47 Q1332.54 1441.47 1335.48 1443.87 Q1338.42 1446.28 1338.42 1450.43 Q1338.42 1453.39 1336.73 1455.45 Q1335.06 1457.51 1332.07 1458.25 Q1335.45 1459.04 1337.33 1461.33 Q1339.23 1463.62 1339.23 1466.93 Q1339.23 1471.95 1336.15 1474.64 Q1333.09 1477.32 1327.37 1477.32 Q1321.66 1477.32 1318.58 1474.64 Q1315.52 1471.95 1315.52 1466.93 Q1315.52 1463.62 1317.42 1461.33 Q1319.32 1459.04 1322.7 1458.25 M1320.99 1450.86 Q1320.99 1453.55 1322.65 1455.05 Q1324.34 1456.56 1327.37 1456.56 Q1330.38 1456.56 1332.07 1455.05 Q1333.79 1453.55 1333.79 1450.86 Q1333.79 1448.18 1332.07 1446.68 Q1330.38 1445.17 1327.37 1445.17 Q1324.34 1445.17 1322.65 1446.68 Q1320.99 1448.18 1320.99 1450.86 Z\" fill=\"#000000\" fill-rule=\"evenodd\" fill-opacity=\"1\" /><path clip-path=\"url(#clip700)\" d=\"M 0 0 M1681.73 1472.72 L1698.05 1472.72 L1698.05 1476.65 L1676.1 1476.65 L1676.1 1472.72 Q1678.76 1469.96 1683.35 1465.33 Q1687.95 1460.68 1689.13 1459.34 Q1691.38 1456.81 1692.26 1455.08 Q1693.16 1453.32 1693.16 1451.63 Q1693.16 1448.87 1691.22 1447.14 Q1689.3 1445.4 1686.19 1445.4 Q1684 1445.4 1681.54 1446.17 Q1679.11 1446.93 1676.33 1448.48 L1676.33 1443.76 Q1679.16 1442.62 1681.61 1442.05 Q1684.07 1441.47 1686.1 1441.47 Q1691.47 1441.47 1694.67 1444.15 Q1697.86 1446.84 1697.86 1451.33 Q1697.86 1453.46 1697.05 1455.38 Q1696.26 1457.28 1694.16 1459.87 Q1693.58 1460.54 1690.48 1463.76 Q1687.38 1466.95 1681.73 1472.72 Z\" fill=\"#000000\" fill-rule=\"evenodd\" fill-opacity=\"1\" /><path clip-path=\"url(#clip700)\" d=\"M 0 0 M1703.12 1470.77 L1708 1470.77 L1708 1476.65 L1703.12 1476.65 L1703.12 1470.77 Z\" fill=\"#000000\" fill-rule=\"evenodd\" fill-opacity=\"1\" /><path clip-path=\"url(#clip700)\" d=\"M 0 0 M1713.88 1472.72 L1721.52 1472.72 L1721.52 1446.35 L1713.21 1448.02 L1713.21 1443.76 L1721.47 1442.09 L1726.15 1442.09 L1726.15 1472.72 L1733.79 1472.72 L1733.79 1476.65 L1713.88 1476.65 L1713.88 1472.72 Z\" fill=\"#000000\" fill-rule=\"evenodd\" fill-opacity=\"1\" /><path clip-path=\"url(#clip700)\" d=\"M 0 0 M2075.32 1472.72 L2091.64 1472.72 L2091.64 1476.65 L2069.69 1476.65 L2069.69 1472.72 Q2072.35 1469.96 2076.94 1465.33 Q2081.54 1460.68 2082.72 1459.34 Q2084.97 1456.81 2085.85 1455.08 Q2086.75 1453.32 2086.75 1451.63 Q2086.75 1448.87 2084.81 1447.14 Q2082.89 1445.4 2079.78 1445.4 Q2077.58 1445.4 2075.13 1446.17 Q2072.7 1446.93 2069.92 1448.48 L2069.92 1443.76 Q2072.75 1442.62 2075.2 1442.05 Q2077.65 1441.47 2079.69 1441.47 Q2085.06 1441.47 2088.26 1444.15 Q2091.45 1446.84 2091.45 1451.33 Q2091.45 1453.46 2090.64 1455.38 Q2089.85 1457.28 2087.75 1459.87 Q2087.17 1460.54 2084.07 1463.76 Q2080.96 1466.95 2075.32 1472.72 Z\" fill=\"#000000\" fill-rule=\"evenodd\" fill-opacity=\"1\" /><path clip-path=\"url(#clip700)\" d=\"M 0 0 M2096.71 1470.77 L2101.59 1470.77 L2101.59 1476.65 L2096.71 1476.65 L2096.71 1470.77 Z\" fill=\"#000000\" fill-rule=\"evenodd\" fill-opacity=\"1\" /><path clip-path=\"url(#clip700)\" d=\"M 0 0 M2119.51 1446.17 L2107.7 1464.61 L2119.51 1464.61 L2119.51 1446.17 M2118.28 1442.09 L2124.16 1442.09 L2124.16 1464.61 L2129.09 1464.61 L2129.09 1468.5 L2124.16 1468.5 L2124.16 1476.65 L2119.51 1476.65 L2119.51 1468.5 L2103.9 1468.5 L2103.9 1463.99 L2118.28 1442.09 Z\" fill=\"#000000\" fill-rule=\"evenodd\" fill-opacity=\"1\" /><path clip-path=\"url(#clip700)\" d=\"M 0 0 M100.816 1372.19 Q97.2049 1372.19 95.3762 1375.76 Q93.5707 1379.3 93.5707 1386.43 Q93.5707 1393.54 95.3762 1397.1 Q97.2049 1400.64 100.816 1400.64 Q104.45 1400.64 106.256 1397.1 Q108.084 1393.54 108.084 1386.43 Q108.084 1379.3 106.256 1375.76 Q104.45 1372.19 100.816 1372.19 M100.816 1368.49 Q106.626 1368.49 109.682 1373.1 Q112.76 1377.68 112.76 1386.43 Q112.76 1395.16 109.682 1399.76 Q106.626 1404.35 100.816 1404.35 Q95.0058 1404.35 91.9272 1399.76 Q88.8716 1395.16 88.8716 1386.43 Q88.8716 1377.68 91.9272 1373.1 Q95.0058 1368.49 100.816 1368.49 Z\" fill=\"#000000\" fill-rule=\"evenodd\" fill-opacity=\"1\" /><path clip-path=\"url(#clip700)\" d=\"M 0 0 M65.8393 991.027 L73.4782 991.027 L73.4782 964.662 L65.168 966.328 L65.168 962.069 L73.4319 960.403 L78.1078 960.403 L78.1078 991.027 L85.7466 991.027 L85.7466 994.963 L65.8393 994.963 L65.8393 991.027 Z\" fill=\"#000000\" fill-rule=\"evenodd\" fill-opacity=\"1\" /><path clip-path=\"url(#clip700)\" d=\"M 0 0 M100.816 963.481 Q97.2049 963.481 95.3762 967.046 Q93.5707 970.588 93.5707 977.717 Q93.5707 984.824 95.3762 988.389 Q97.2049 991.93 100.816 991.93 Q104.45 991.93 106.256 988.389 Q108.084 984.824 108.084 977.717 Q108.084 970.588 106.256 967.046 Q104.45 963.481 100.816 963.481 M100.816 959.778 Q106.626 959.778 109.682 964.384 Q112.76 968.967 112.76 977.717 Q112.76 986.444 109.682 991.051 Q106.626 995.634 100.816 995.634 Q95.0058 995.634 91.9272 991.051 Q88.8716 986.444 88.8716 977.717 Q88.8716 968.967 91.9272 964.384 Q95.0058 959.778 100.816 959.778 Z\" fill=\"#000000\" fill-rule=\"evenodd\" fill-opacity=\"1\" /><path clip-path=\"url(#clip700)\" d=\"M 0 0 M69.4273 582.314 L85.7466 582.314 L85.7466 586.249 L63.8023 586.249 L63.8023 582.314 Q66.4643 579.56 71.0476 574.93 Q75.6541 570.277 76.8346 568.935 Q79.08 566.412 79.9596 564.675 Q80.8624 562.916 80.8624 561.226 Q80.8624 558.472 78.918 556.736 Q76.9967 555 73.8948 555 Q71.6958 555 69.2421 555.763 Q66.8115 556.527 64.0338 558.078 L64.0338 553.356 Q66.8578 552.222 69.3115 551.643 Q71.7652 551.064 73.8023 551.064 Q79.1726 551.064 82.367 553.75 Q85.5614 556.435 85.5614 560.925 Q85.5614 563.055 84.7513 564.976 Q83.9642 566.875 81.8578 569.467 Q81.2791 570.138 78.1772 573.356 Q75.0754 576.55 69.4273 582.314 Z\" fill=\"#000000\" fill-rule=\"evenodd\" fill-opacity=\"1\" /><path clip-path=\"url(#clip700)\" d=\"M 0 0 M100.816 554.768 Q97.2049 554.768 95.3762 558.333 Q93.5707 561.875 93.5707 569.004 Q93.5707 576.111 95.3762 579.675 Q97.2049 583.217 100.816 583.217 Q104.45 583.217 106.256 579.675 Q108.084 576.111 108.084 569.004 Q108.084 561.875 106.256 558.333 Q104.45 554.768 100.816 554.768 M100.816 551.064 Q106.626 551.064 109.682 555.671 Q112.76 560.254 112.76 569.004 Q112.76 577.731 109.682 582.337 Q106.626 586.921 100.816 586.921 Q95.0058 586.921 91.9272 582.337 Q88.8716 577.731 88.8716 569.004 Q88.8716 560.254 91.9272 555.671 Q95.0058 551.064 100.816 551.064 Z\" fill=\"#000000\" fill-rule=\"evenodd\" fill-opacity=\"1\" /><path clip-path=\"url(#clip700)\" d=\"M 0 0 M78.617 158.902 Q81.9735 159.62 83.8485 161.888 Q85.7466 164.157 85.7466 167.49 Q85.7466 172.606 82.2281 175.407 Q78.7096 178.208 72.2282 178.208 Q70.0523 178.208 67.7375 177.768 Q65.4458 177.351 62.9921 176.495 L62.9921 171.981 Q64.9366 173.115 67.2514 173.694 Q69.5662 174.272 72.0893 174.272 Q76.4874 174.272 78.7791 172.536 Q81.0939 170.8 81.0939 167.49 Q81.0939 164.435 78.9411 162.722 Q76.8115 160.985 72.9921 160.985 L68.9643 160.985 L68.9643 157.143 L73.1773 157.143 Q76.6263 157.143 78.455 155.777 Q80.2837 154.388 80.2837 151.796 Q80.2837 149.134 78.3856 147.722 Q76.5106 146.286 72.9921 146.286 Q71.0708 146.286 68.8717 146.703 Q66.6727 147.12 64.0338 147.999 L64.0338 143.833 Q66.6958 143.092 69.0106 142.722 Q71.3486 142.351 73.4087 142.351 Q78.7328 142.351 81.8346 144.782 Q84.9365 147.189 84.9365 151.31 Q84.9365 154.18 83.2929 156.171 Q81.6494 158.138 78.617 158.902 Z\" fill=\"#000000\" fill-rule=\"evenodd\" fill-opacity=\"1\" /><path clip-path=\"url(#clip700)\" d=\"M 0 0 M100.816 146.055 Q97.2049 146.055 95.3762 149.62 Q93.5707 153.161 93.5707 160.291 Q93.5707 167.397 95.3762 170.962 Q97.2049 174.504 100.816 174.504 Q104.45 174.504 106.256 170.962 Q108.084 167.397 108.084 160.291 Q108.084 153.161 106.256 149.62 Q104.45 146.055 100.816 146.055 M100.816 142.351 Q106.626 142.351 109.682 146.958 Q112.76 151.541 112.76 160.291 Q112.76 169.018 109.682 173.624 Q106.626 178.208 100.816 178.208 Q95.0058 178.208 91.9272 173.624 Q88.8716 169.018 88.8716 160.291 Q88.8716 151.541 91.9272 146.958 Q95.0058 142.351 100.816 142.351 Z\" fill=\"#000000\" fill-rule=\"evenodd\" fill-opacity=\"1\" /><path clip-path=\"url(#clip700)\" d=\"M 0 0 M1027.93 18.8205 L1027.93 65.8515 L1037.82 65.8515 Q1050.33 65.8515 1056.13 60.1802 Q1061.96 54.509 1061.96 42.2752 Q1061.96 30.1225 1056.13 24.4918 Q1050.33 18.8205 1037.82 18.8205 L1027.93 18.8205 M1019.75 12.096 L1036.56 12.096 Q1054.14 12.096 1062.37 19.4281 Q1070.59 26.7198 1070.59 42.2752 Q1070.59 57.9117 1062.33 65.2439 Q1054.06 72.576 1036.56 72.576 L1019.75 72.576 L1019.75 12.096 Z\" fill=\"#000000\" fill-rule=\"evenodd\" fill-opacity=\"1\" /><path clip-path=\"url(#clip700)\" d=\"M 0 0 M1117.22 48.0275 L1117.22 51.6733 L1082.94 51.6733 Q1083.43 59.3701 1087.56 63.421 Q1091.74 67.4314 1099.15 67.4314 Q1103.44 67.4314 1107.45 66.3781 Q1111.5 65.3249 1115.47 63.2184 L1115.47 70.267 Q1111.46 71.9684 1107.25 72.8596 Q1103.04 73.7508 1098.7 73.7508 Q1087.85 73.7508 1081.49 67.4314 Q1075.17 61.1119 1075.17 50.3365 Q1075.17 39.1965 1081.16 32.6746 Q1087.2 26.1121 1097.41 26.1121 Q1106.56 26.1121 1111.87 32.0264 Q1117.22 37.9003 1117.22 48.0275 M1109.76 45.84 Q1109.68 39.7232 1106.32 36.0774 Q1103 32.4315 1097.49 32.4315 Q1091.25 32.4315 1087.48 35.9558 Q1083.75 39.4801 1083.19 45.8805 L1109.76 45.84 Z\" fill=\"#000000\" fill-rule=\"evenodd\" fill-opacity=\"1\" /><path clip-path=\"url(#clip700)\" d=\"M 0 0 M1132.24 65.7705 L1132.24 89.8329 L1124.75 89.8329 L1124.75 27.2059 L1132.24 27.2059 L1132.24 34.0924 Q1134.59 30.0415 1138.16 28.0971 Q1141.76 26.1121 1146.75 26.1121 Q1155.01 26.1121 1160.16 32.6746 Q1165.34 39.2371 1165.34 49.9314 Q1165.34 60.6258 1160.16 67.1883 Q1155.01 73.7508 1146.75 73.7508 Q1141.76 73.7508 1138.16 71.8063 Q1134.59 69.8214 1132.24 65.7705 M1157.6 49.9314 Q1157.6 41.7081 1154.2 37.0496 Q1150.84 32.3505 1144.92 32.3505 Q1139.01 32.3505 1135.61 37.0496 Q1132.24 41.7081 1132.24 49.9314 Q1132.24 58.1548 1135.61 62.8538 Q1139.01 67.5124 1144.92 67.5124 Q1150.84 67.5124 1154.2 62.8538 Q1157.6 58.1548 1157.6 49.9314 Z\" fill=\"#000000\" fill-rule=\"evenodd\" fill-opacity=\"1\" /><path clip-path=\"url(#clip700)\" d=\"M 0 0 M1193.78 49.7694 Q1184.74 49.7694 1181.26 51.8354 Q1177.78 53.9013 1177.78 58.8839 Q1177.78 62.8538 1180.37 65.2034 Q1183 67.5124 1187.5 67.5124 Q1193.7 67.5124 1197.42 63.1374 Q1201.19 58.7219 1201.19 51.4303 L1201.19 49.7694 L1193.78 49.7694 M1208.64 46.6907 L1208.64 72.576 L1201.19 72.576 L1201.19 65.6895 Q1198.64 69.8214 1194.83 71.8063 Q1191.02 73.7508 1185.51 73.7508 Q1178.55 73.7508 1174.41 69.8619 Q1170.32 65.9325 1170.32 59.3701 Q1170.32 51.7138 1175.43 47.825 Q1180.57 43.9361 1190.74 43.9361 L1201.19 43.9361 L1201.19 43.2069 Q1201.19 38.0623 1197.79 35.2672 Q1194.43 32.4315 1188.31 32.4315 Q1184.42 32.4315 1180.73 33.3632 Q1177.05 34.295 1173.64 36.1584 L1173.64 29.2718 Q1177.74 27.692 1181.58 26.9223 Q1185.43 26.1121 1189.08 26.1121 Q1198.92 26.1121 1203.78 31.2163 Q1208.64 36.3204 1208.64 46.6907 Z\" fill=\"#000000\" fill-rule=\"evenodd\" fill-opacity=\"1\" /><path clip-path=\"url(#clip700)\" d=\"M 0 0 M1242.75 34.1734 Q1241.5 33.4443 1240 33.1202 Q1238.54 32.7556 1236.76 32.7556 Q1230.44 32.7556 1227.04 36.8875 Q1223.67 40.9789 1223.67 48.6757 L1223.67 72.576 L1216.18 72.576 L1216.18 27.2059 L1223.67 27.2059 L1223.67 34.2544 Q1226.02 30.1225 1229.79 28.1376 Q1233.56 26.1121 1238.95 26.1121 Q1239.71 26.1121 1240.65 26.2337 Q1241.58 26.3147 1242.71 26.5172 L1242.75 34.1734 Z\" fill=\"#000000\" fill-rule=\"evenodd\" fill-opacity=\"1\" /><path clip-path=\"url(#clip700)\" d=\"M 0 0 M1257.94 14.324 L1257.94 27.2059 L1273.3 27.2059 L1273.3 32.9987 L1257.94 32.9987 L1257.94 57.6282 Q1257.94 63.1779 1259.44 64.7578 Q1260.98 66.3376 1265.64 66.3376 L1273.3 66.3376 L1273.3 72.576 L1265.64 72.576 Q1257.01 72.576 1253.73 69.3758 Q1250.45 66.1351 1250.45 57.6282 L1250.45 32.9987 L1244.98 32.9987 L1244.98 27.2059 L1250.45 27.2059 L1250.45 14.324 L1257.94 14.324 Z\" fill=\"#000000\" fill-rule=\"evenodd\" fill-opacity=\"1\" /><path clip-path=\"url(#clip700)\" d=\"M 0 0 M1316.44 35.9153 Q1319.23 30.8922 1323.12 28.5022 Q1327.01 26.1121 1332.28 26.1121 Q1339.37 26.1121 1343.22 31.0947 Q1347.06 36.0368 1347.06 45.1919 L1347.06 72.576 L1339.57 72.576 L1339.57 45.4349 Q1339.57 38.913 1337.26 35.7533 Q1334.95 32.5936 1330.21 32.5936 Q1324.42 32.5936 1321.06 36.4419 Q1317.69 40.2903 1317.69 46.9338 L1317.69 72.576 L1310.2 72.576 L1310.2 45.4349 Q1310.2 38.8725 1307.89 35.7533 Q1305.58 32.5936 1300.76 32.5936 Q1295.05 32.5936 1291.69 36.4824 Q1288.33 40.3308 1288.33 46.9338 L1288.33 72.576 L1280.83 72.576 L1280.83 27.2059 L1288.33 27.2059 L1288.33 34.2544 Q1290.88 30.082 1294.44 28.0971 Q1298.01 26.1121 1302.91 26.1121 Q1307.85 26.1121 1311.29 28.6237 Q1314.78 31.1352 1316.44 35.9153 Z\" fill=\"#000000\" fill-rule=\"evenodd\" fill-opacity=\"1\" /><path clip-path=\"url(#clip700)\" d=\"M 0 0 M1393.69 48.0275 L1393.69 51.6733 L1359.42 51.6733 Q1359.91 59.3701 1364.04 63.421 Q1368.21 67.4314 1375.62 67.4314 Q1379.92 67.4314 1383.93 66.3781 Q1387.98 65.3249 1391.95 63.2184 L1391.95 70.267 Q1387.94 71.9684 1383.72 72.8596 Q1379.51 73.7508 1375.18 73.7508 Q1364.32 73.7508 1357.96 67.4314 Q1351.64 61.1119 1351.64 50.3365 Q1351.64 39.1965 1357.64 32.6746 Q1363.67 26.1121 1373.88 26.1121 Q1383.04 26.1121 1388.34 32.0264 Q1393.69 37.9003 1393.69 48.0275 M1386.24 45.84 Q1386.15 39.7232 1382.79 36.0774 Q1379.47 32.4315 1373.96 32.4315 Q1367.72 32.4315 1363.96 35.9558 Q1360.23 39.4801 1359.66 45.8805 L1386.24 45.84 Z\" fill=\"#000000\" fill-rule=\"evenodd\" fill-opacity=\"1\" /><path clip-path=\"url(#clip700)\" d=\"M 0 0 M1439.22 45.1919 L1439.22 72.576 L1431.77 72.576 L1431.77 45.4349 Q1431.77 38.994 1429.26 35.7938 Q1426.75 32.5936 1421.72 32.5936 Q1415.69 32.5936 1412.2 36.4419 Q1408.72 40.2903 1408.72 46.9338 L1408.72 72.576 L1401.22 72.576 L1401.22 27.2059 L1408.72 27.2059 L1408.72 34.2544 Q1411.39 30.163 1415 28.1376 Q1418.64 26.1121 1423.38 26.1121 Q1431.2 26.1121 1435.21 30.9732 Q1439.22 35.7938 1439.22 45.1919 Z\" fill=\"#000000\" fill-rule=\"evenodd\" fill-opacity=\"1\" /><path clip-path=\"url(#clip700)\" d=\"M 0 0 M1454.41 14.324 L1454.41 27.2059 L1469.77 27.2059 L1469.77 32.9987 L1454.41 32.9987 L1454.41 57.6282 Q1454.41 63.1779 1455.91 64.7578 Q1457.45 66.3376 1462.11 66.3376 L1469.77 66.3376 L1469.77 72.576 L1462.11 72.576 Q1453.48 72.576 1450.2 69.3758 Q1446.92 66.1351 1446.92 57.6282 L1446.92 32.9987 L1441.45 32.9987 L1441.45 27.2059 L1446.92 27.2059 L1446.92 14.324 L1454.41 14.324 Z\" fill=\"#000000\" fill-rule=\"evenodd\" fill-opacity=\"1\" /><path clip-path=\"url(#clip700)\" d=\"M 0 0 M500.002 1512.18 L500.002 1518.96 Q496.756 1515.94 493.064 1514.44 Q489.403 1512.95 485.266 1512.95 Q477.118 1512.95 472.789 1517.95 Q468.46 1522.91 468.46 1532.33 Q468.46 1541.72 472.789 1546.72 Q477.118 1551.68 485.266 1551.68 Q489.403 1551.68 493.064 1550.19 Q496.756 1548.69 500.002 1545.67 L500.002 1552.38 Q496.628 1554.68 492.841 1555.82 Q489.085 1556.97 484.884 1556.97 Q474.094 1556.97 467.887 1550.38 Q461.681 1543.76 461.681 1532.33 Q461.681 1520.87 467.887 1514.28 Q474.094 1507.66 484.884 1507.66 Q489.149 1507.66 492.905 1508.81 Q496.692 1509.92 500.002 1512.18 Z\" fill=\"#000000\" fill-rule=\"evenodd\" fill-opacity=\"1\" /><path clip-path=\"url(#clip700)\" d=\"M 0 0 M519.959 1524.5 Q515.248 1524.5 512.511 1528.19 Q509.774 1531.85 509.774 1538.25 Q509.774 1544.65 512.479 1548.34 Q515.216 1552 519.959 1552 Q524.638 1552 527.375 1548.31 Q530.112 1544.62 530.112 1538.25 Q530.112 1531.92 527.375 1528.23 Q524.638 1524.5 519.959 1524.5 M519.959 1519.54 Q527.598 1519.54 531.958 1524.5 Q536.319 1529.47 536.319 1538.25 Q536.319 1547 531.958 1552 Q527.598 1556.97 519.959 1556.97 Q512.288 1556.97 507.928 1552 Q503.599 1547 503.599 1538.25 Q503.599 1529.47 507.928 1524.5 Q512.288 1519.54 519.959 1519.54 Z\" fill=\"#000000\" fill-rule=\"evenodd\" fill-opacity=\"1\" /><path clip-path=\"url(#clip700)\" d=\"M 0 0 M570.216 1527.24 Q572.412 1523.29 575.468 1521.41 Q578.523 1519.54 582.661 1519.54 Q588.231 1519.54 591.255 1523.45 Q594.278 1527.33 594.278 1534.53 L594.278 1556.04 L588.39 1556.04 L588.39 1534.72 Q588.39 1529.59 586.576 1527.11 Q584.762 1524.63 581.038 1524.63 Q576.486 1524.63 573.844 1527.65 Q571.203 1530.68 571.203 1535.9 L571.203 1556.04 L565.314 1556.04 L565.314 1534.72 Q565.314 1529.56 563.5 1527.11 Q561.686 1524.63 557.898 1524.63 Q553.411 1524.63 550.769 1527.68 Q548.127 1530.71 548.127 1535.9 L548.127 1556.04 L542.239 1556.04 L542.239 1520.4 L548.127 1520.4 L548.127 1525.93 Q550.132 1522.66 552.933 1521.1 Q555.734 1519.54 559.585 1519.54 Q563.468 1519.54 566.174 1521.51 Q568.911 1523.48 570.216 1527.24 Z\" fill=\"#000000\" fill-rule=\"evenodd\" fill-opacity=\"1\" /><path clip-path=\"url(#clip700)\" d=\"M 0 0 M606.087 1550.7 L606.087 1569.6 L600.199 1569.6 L600.199 1520.4 L606.087 1520.4 L606.087 1525.81 Q607.933 1522.62 610.734 1521.1 Q613.567 1519.54 617.481 1519.54 Q623.974 1519.54 628.017 1524.69 Q632.091 1529.85 632.091 1538.25 Q632.091 1546.65 628.017 1551.81 Q623.974 1556.97 617.481 1556.97 Q613.567 1556.97 610.734 1555.44 Q607.933 1553.88 606.087 1550.7 M626.011 1538.25 Q626.011 1531.79 623.338 1528.13 Q620.696 1524.44 616.049 1524.44 Q611.402 1524.44 608.729 1528.13 Q606.087 1531.79 606.087 1538.25 Q606.087 1544.71 608.729 1548.4 Q611.402 1552.07 616.049 1552.07 Q620.696 1552.07 623.338 1548.4 Q626.011 1544.71 626.011 1538.25 Z\" fill=\"#000000\" fill-rule=\"evenodd\" fill-opacity=\"1\" /><path clip-path=\"url(#clip700)\" d=\"M 0 0 M637.629 1541.98 L637.629 1520.4 L643.485 1520.4 L643.485 1541.75 Q643.485 1546.81 645.459 1549.36 Q647.432 1551.87 651.379 1551.87 Q656.121 1551.87 658.859 1548.85 Q661.628 1545.83 661.628 1540.61 L661.628 1520.4 L667.484 1520.4 L667.484 1556.04 L661.628 1556.04 L661.628 1550.57 Q659.495 1553.82 656.662 1555.41 Q653.861 1556.97 650.137 1556.97 Q643.995 1556.97 640.812 1553.15 Q637.629 1549.33 637.629 1541.98 M652.365 1519.54 L652.365 1519.54 Z\" fill=\"#000000\" fill-rule=\"evenodd\" fill-opacity=\"1\" /><path clip-path=\"url(#clip700)\" d=\"M 0 0 M679.42 1510.27 L679.42 1520.4 L691.483 1520.4 L691.483 1524.95 L679.42 1524.95 L679.42 1544.3 Q679.42 1548.66 680.597 1549.9 Q681.807 1551.14 685.467 1551.14 L691.483 1551.14 L691.483 1556.04 L685.467 1556.04 Q678.688 1556.04 676.11 1553.53 Q673.531 1550.98 673.531 1544.3 L673.531 1524.95 L669.235 1524.95 L669.235 1520.4 L673.531 1520.4 L673.531 1510.27 L679.42 1510.27 Z\" fill=\"#000000\" fill-rule=\"evenodd\" fill-opacity=\"1\" /><path clip-path=\"url(#clip700)\" d=\"M 0 0 M728.117 1536.76 L728.117 1539.62 L701.19 1539.62 Q701.572 1545.67 704.819 1548.85 Q708.097 1552 713.922 1552 Q717.296 1552 720.447 1551.17 Q723.63 1550.35 726.749 1548.69 L726.749 1554.23 Q723.598 1555.57 720.288 1556.27 Q716.977 1556.97 713.572 1556.97 Q705.042 1556.97 700.045 1552 Q695.079 1547.04 695.079 1538.57 Q695.079 1529.82 699.79 1524.69 Q704.532 1519.54 712.553 1519.54 Q719.746 1519.54 723.916 1524.18 Q728.117 1528.8 728.117 1536.76 M722.261 1535.04 Q722.197 1530.23 719.556 1527.37 Q716.946 1524.5 712.617 1524.5 Q707.715 1524.5 704.755 1527.27 Q701.827 1530.04 701.381 1535.07 L722.261 1535.04 Z\" fill=\"#000000\" fill-rule=\"evenodd\" fill-opacity=\"1\" /><path clip-path=\"url(#clip700)\" d=\"M 0 0 M754.917 1525.87 Q753.93 1525.3 752.753 1525.04 Q751.607 1524.76 750.206 1524.76 Q745.241 1524.76 742.568 1528 Q739.926 1531.22 739.926 1537.27 L739.926 1556.04 L734.037 1556.04 L734.037 1520.4 L739.926 1520.4 L739.926 1525.93 Q741.772 1522.69 744.732 1521.13 Q747.692 1519.54 751.925 1519.54 Q752.53 1519.54 753.262 1519.63 Q753.994 1519.7 754.885 1519.85 L754.917 1525.87 Z\" fill=\"#000000\" fill-rule=\"evenodd\" fill-opacity=\"1\" /><path clip-path=\"url(#clip700)\" d=\"M 0 0 M810.521 1510.08 L810.521 1516.35 Q806.861 1514.6 803.615 1513.74 Q800.368 1512.88 797.344 1512.88 Q792.093 1512.88 789.228 1514.92 Q786.395 1516.96 786.395 1520.71 Q786.395 1523.87 788.273 1525.49 Q790.183 1527.08 795.467 1528.07 L799.35 1528.86 Q806.543 1530.23 809.949 1533.7 Q813.386 1537.14 813.386 1542.93 Q813.386 1549.84 808.739 1553.4 Q804.124 1556.97 795.18 1556.97 Q791.806 1556.97 787.987 1556.2 Q784.199 1555.44 780.125 1553.94 L780.125 1547.32 Q784.04 1549.52 787.796 1550.63 Q791.552 1551.75 795.18 1551.75 Q800.686 1551.75 803.678 1549.58 Q806.67 1547.42 806.67 1543.41 Q806.67 1539.91 804.506 1537.93 Q802.373 1535.96 797.472 1534.97 L793.557 1534.21 Q786.364 1532.78 783.149 1529.72 Q779.934 1526.67 779.934 1521.22 Q779.934 1514.92 784.358 1511.29 Q788.814 1507.66 796.612 1507.66 Q799.954 1507.66 803.424 1508.27 Q806.893 1508.87 810.521 1510.08 Z\" fill=\"#000000\" fill-rule=\"evenodd\" fill-opacity=\"1\" /><path clip-path=\"url(#clip700)\" d=\"M 0 0 M845.183 1521.76 L845.183 1527.24 Q842.7 1525.87 840.186 1525.2 Q837.703 1524.5 835.157 1524.5 Q829.459 1524.5 826.308 1528.13 Q823.157 1531.73 823.157 1538.25 Q823.157 1544.78 826.308 1548.4 Q829.459 1552 835.157 1552 Q837.703 1552 840.186 1551.33 Q842.7 1550.63 845.183 1549.26 L845.183 1554.68 Q842.732 1555.82 840.09 1556.39 Q837.48 1556.97 834.52 1556.97 Q826.468 1556.97 821.725 1551.91 Q816.983 1546.85 816.983 1538.25 Q816.983 1529.53 821.757 1524.53 Q826.563 1519.54 834.902 1519.54 Q837.608 1519.54 840.186 1520.11 Q842.764 1520.65 845.183 1521.76 Z\" fill=\"#000000\" fill-rule=\"evenodd\" fill-opacity=\"1\" /><path clip-path=\"url(#clip700)\" d=\"M 0 0 M851.326 1520.4 L857.182 1520.4 L857.182 1556.04 L851.326 1556.04 L851.326 1520.4 M851.326 1506.52 L857.182 1506.52 L857.182 1513.93 L851.326 1513.93 L851.326 1506.52 Z\" fill=\"#000000\" fill-rule=\"evenodd\" fill-opacity=\"1\" /><path clip-path=\"url(#clip700)\" d=\"M 0 0 M893.817 1536.76 L893.817 1539.62 L866.89 1539.62 Q867.272 1545.67 870.518 1548.85 Q873.797 1552 879.621 1552 Q882.995 1552 886.146 1551.17 Q889.329 1550.35 892.448 1548.69 L892.448 1554.23 Q889.297 1555.57 885.987 1556.27 Q882.677 1556.97 879.271 1556.97 Q870.741 1556.97 865.744 1552 Q860.779 1547.04 860.779 1538.57 Q860.779 1529.82 865.489 1524.69 Q870.232 1519.54 878.253 1519.54 Q885.446 1519.54 889.615 1524.18 Q893.817 1528.8 893.817 1536.76 M887.96 1535.04 Q887.897 1530.23 885.255 1527.37 Q882.645 1524.5 878.316 1524.5 Q873.415 1524.5 870.455 1527.27 Q867.526 1530.04 867.081 1535.07 L887.96 1535.04 Z\" fill=\"#000000\" fill-rule=\"evenodd\" fill-opacity=\"1\" /><path clip-path=\"url(#clip700)\" d=\"M 0 0 M929.592 1534.53 L929.592 1556.04 L923.736 1556.04 L923.736 1534.72 Q923.736 1529.66 921.762 1527.14 Q919.789 1524.63 915.842 1524.63 Q911.1 1524.63 908.362 1527.65 Q905.625 1530.68 905.625 1535.9 L905.625 1556.04 L899.737 1556.04 L899.737 1520.4 L905.625 1520.4 L905.625 1525.93 Q907.726 1522.72 910.559 1521.13 Q913.423 1519.54 917.147 1519.54 Q923.29 1519.54 926.441 1523.36 Q929.592 1527.14 929.592 1534.53 Z\" fill=\"#000000\" fill-rule=\"evenodd\" fill-opacity=\"1\" /><path clip-path=\"url(#clip700)\" d=\"M 0 0 M961.389 1521.76 L961.389 1527.24 Q958.906 1525.87 956.392 1525.2 Q953.909 1524.5 951.363 1524.5 Q945.665 1524.5 942.514 1528.13 Q939.363 1531.73 939.363 1538.25 Q939.363 1544.78 942.514 1548.4 Q945.665 1552 951.363 1552 Q953.909 1552 956.392 1551.33 Q958.906 1550.63 961.389 1549.26 L961.389 1554.68 Q958.938 1555.82 956.296 1556.39 Q953.686 1556.97 950.726 1556.97 Q942.674 1556.97 937.931 1551.91 Q933.189 1546.85 933.189 1538.25 Q933.189 1529.53 937.963 1524.53 Q942.769 1519.54 951.108 1519.54 Q953.814 1519.54 956.392 1520.11 Q958.97 1520.65 961.389 1521.76 Z\" fill=\"#000000\" fill-rule=\"evenodd\" fill-opacity=\"1\" /><path clip-path=\"url(#clip700)\" d=\"M 0 0 M998.023 1536.76 L998.023 1539.62 L971.096 1539.62 Q971.478 1545.67 974.725 1548.85 Q978.003 1552 983.828 1552 Q987.202 1552 990.353 1551.17 Q993.536 1550.35 996.655 1548.69 L996.655 1554.23 Q993.504 1555.57 990.194 1556.27 Q986.883 1556.97 983.478 1556.97 Q974.948 1556.97 969.951 1552 Q964.985 1547.04 964.985 1538.57 Q964.985 1529.82 969.696 1524.69 Q974.438 1519.54 982.459 1519.54 Q989.652 1519.54 993.822 1524.18 Q998.023 1528.8 998.023 1536.76 M992.167 1535.04 Q992.103 1530.23 989.461 1527.37 Q986.852 1524.5 982.523 1524.5 Q977.621 1524.5 974.661 1527.27 Q971.733 1530.04 971.287 1535.07 L992.167 1535.04 Z\" fill=\"#000000\" fill-rule=\"evenodd\" fill-opacity=\"1\" /><path clip-path=\"url(#clip700)\" d=\"M 0 0 M1708.91 1508.52 L1715.34 1508.52 L1715.34 1556.04 L1708.91 1556.04 L1708.91 1508.52 Z\" fill=\"#000000\" fill-rule=\"evenodd\" fill-opacity=\"1\" /><path clip-path=\"url(#clip700)\" d=\"M 0 0 M1751.12 1534.53 L1751.12 1556.04 L1745.26 1556.04 L1745.26 1534.72 Q1745.26 1529.66 1743.29 1527.14 Q1741.32 1524.63 1737.37 1524.63 Q1732.63 1524.63 1729.89 1527.65 Q1727.15 1530.68 1727.15 1535.9 L1727.15 1556.04 L1721.26 1556.04 L1721.26 1520.4 L1727.15 1520.4 L1727.15 1525.93 Q1729.25 1522.72 1732.08 1521.13 Q1734.95 1519.54 1738.67 1519.54 Q1744.82 1519.54 1747.97 1523.36 Q1751.12 1527.14 1751.12 1534.53 Z\" fill=\"#000000\" fill-rule=\"evenodd\" fill-opacity=\"1\" /><path clip-path=\"url(#clip700)\" d=\"M 0 0 M1775.31 1506.52 L1775.31 1511.39 L1769.71 1511.39 Q1766.56 1511.39 1765.31 1512.66 Q1764.1 1513.93 1764.1 1517.24 L1764.1 1520.4 L1773.75 1520.4 L1773.75 1524.95 L1764.1 1524.95 L1764.1 1556.04 L1758.22 1556.04 L1758.22 1524.95 L1752.61 1524.95 L1752.61 1520.4 L1758.22 1520.4 L1758.22 1517.91 Q1758.22 1511.96 1760.99 1509.26 Q1763.75 1506.52 1769.77 1506.52 L1775.31 1506.52 Z\" fill=\"#000000\" fill-rule=\"evenodd\" fill-opacity=\"1\" /><path clip-path=\"url(#clip700)\" d=\"M 0 0 M1795.26 1524.5 Q1790.55 1524.5 1787.82 1528.19 Q1785.08 1531.85 1785.08 1538.25 Q1785.08 1544.65 1787.78 1548.34 Q1790.52 1552 1795.26 1552 Q1799.94 1552 1802.68 1548.31 Q1805.42 1544.62 1805.42 1538.25 Q1805.42 1531.92 1802.68 1528.23 Q1799.94 1524.5 1795.26 1524.5 M1795.26 1519.54 Q1802.9 1519.54 1807.26 1524.5 Q1811.62 1529.47 1811.62 1538.25 Q1811.62 1547 1807.26 1552 Q1802.9 1556.97 1795.26 1556.97 Q1787.59 1556.97 1783.23 1552 Q1778.9 1547 1778.9 1538.25 Q1778.9 1529.47 1783.23 1524.5 Q1787.59 1519.54 1795.26 1519.54 Z\" fill=\"#000000\" fill-rule=\"evenodd\" fill-opacity=\"1\" /><path clip-path=\"url(#clip700)\" d=\"M 0 0 M1838.42 1525.87 Q1837.44 1525.3 1836.26 1525.04 Q1835.11 1524.76 1833.71 1524.76 Q1828.75 1524.76 1826.07 1528 Q1823.43 1531.22 1823.43 1537.27 L1823.43 1556.04 L1817.54 1556.04 L1817.54 1520.4 L1823.43 1520.4 L1823.43 1525.93 Q1825.28 1522.69 1828.24 1521.13 Q1831.2 1519.54 1835.43 1519.54 Q1836.04 1519.54 1836.77 1519.63 Q1837.5 1519.7 1838.39 1519.85 L1838.42 1525.87 Z\" fill=\"#000000\" fill-rule=\"evenodd\" fill-opacity=\"1\" /><path clip-path=\"url(#clip700)\" d=\"M 0 0 M1871.18 1527.24 Q1873.37 1523.29 1876.43 1521.41 Q1879.48 1519.54 1883.62 1519.54 Q1889.19 1519.54 1892.21 1523.45 Q1895.24 1527.33 1895.24 1534.53 L1895.24 1556.04 L1889.35 1556.04 L1889.35 1534.72 Q1889.35 1529.59 1887.54 1527.11 Q1885.72 1524.63 1882 1524.63 Q1877.45 1524.63 1874.8 1527.65 Q1872.16 1530.68 1872.16 1535.9 L1872.16 1556.04 L1866.27 1556.04 L1866.27 1534.72 Q1866.27 1529.56 1864.46 1527.11 Q1862.65 1524.63 1858.86 1524.63 Q1854.37 1524.63 1851.73 1527.68 Q1849.09 1530.71 1849.09 1535.9 L1849.09 1556.04 L1843.2 1556.04 L1843.2 1520.4 L1849.09 1520.4 L1849.09 1525.93 Q1851.09 1522.66 1853.89 1521.1 Q1856.69 1519.54 1860.54 1519.54 Q1864.43 1519.54 1867.13 1521.51 Q1869.87 1523.48 1871.18 1527.24 Z\" fill=\"#000000\" fill-rule=\"evenodd\" fill-opacity=\"1\" /><path clip-path=\"url(#clip700)\" d=\"M 0 0 M1917.58 1538.12 Q1910.48 1538.12 1907.75 1539.75 Q1905.01 1541.37 1905.01 1545.29 Q1905.01 1548.4 1907.05 1550.25 Q1909.12 1552.07 1912.65 1552.07 Q1917.52 1552.07 1920.45 1548.63 Q1923.41 1545.16 1923.41 1539.43 L1923.41 1538.12 L1917.58 1538.12 M1929.26 1535.71 L1929.26 1556.04 L1923.41 1556.04 L1923.41 1550.63 Q1921.4 1553.88 1918.41 1555.44 Q1915.42 1556.97 1911.09 1556.97 Q1905.61 1556.97 1902.37 1553.91 Q1899.15 1550.82 1899.15 1545.67 Q1899.15 1539.65 1903.16 1536.6 Q1907.21 1533.54 1915.19 1533.54 L1923.41 1533.54 L1923.41 1532.97 Q1923.41 1528.93 1920.73 1526.73 Q1918.09 1524.5 1913.28 1524.5 Q1910.23 1524.5 1907.33 1525.23 Q1904.44 1525.97 1901.76 1527.43 L1901.76 1522.02 Q1904.98 1520.78 1908 1520.17 Q1911.02 1519.54 1913.89 1519.54 Q1921.62 1519.54 1925.44 1523.55 Q1929.26 1527.56 1929.26 1535.71 Z\" fill=\"#000000\" fill-rule=\"evenodd\" fill-opacity=\"1\" /><path clip-path=\"url(#clip700)\" d=\"M 0 0 M1941.2 1510.27 L1941.2 1520.4 L1953.26 1520.4 L1953.26 1524.95 L1941.2 1524.95 L1941.2 1544.3 Q1941.2 1548.66 1942.38 1549.9 Q1943.59 1551.14 1947.25 1551.14 L1953.26 1551.14 L1953.26 1556.04 L1947.25 1556.04 Q1940.47 1556.04 1937.89 1553.53 Q1935.31 1550.98 1935.31 1544.3 L1935.31 1524.95 L1931.01 1524.95 L1931.01 1520.4 L1935.31 1520.4 L1935.31 1510.27 L1941.2 1510.27 Z\" fill=\"#000000\" fill-rule=\"evenodd\" fill-opacity=\"1\" /><path clip-path=\"url(#clip700)\" d=\"M 0 0 M1959.4 1520.4 L1965.26 1520.4 L1965.26 1556.04 L1959.4 1556.04 L1959.4 1520.4 M1959.4 1506.52 L1965.26 1506.52 L1965.26 1513.93 L1959.4 1513.93 L1959.4 1506.52 Z\" fill=\"#000000\" fill-rule=\"evenodd\" fill-opacity=\"1\" /><path clip-path=\"url(#clip700)\" d=\"M 0 0 M1997.06 1521.76 L1997.06 1527.24 Q1994.57 1525.87 1992.06 1525.2 Q1989.58 1524.5 1987.03 1524.5 Q1981.33 1524.5 1978.18 1528.13 Q1975.03 1531.73 1975.03 1538.25 Q1975.03 1544.78 1978.18 1548.4 Q1981.33 1552 1987.03 1552 Q1989.58 1552 1992.06 1551.33 Q1994.57 1550.63 1997.06 1549.26 L1997.06 1554.68 Q1994.61 1555.82 1991.96 1556.39 Q1989.35 1556.97 1986.39 1556.97 Q1978.34 1556.97 1973.6 1551.91 Q1968.86 1546.85 1968.86 1538.25 Q1968.86 1529.53 1973.63 1524.53 Q1978.44 1519.54 1986.78 1519.54 Q1989.48 1519.54 1992.06 1520.11 Q1994.64 1520.65 1997.06 1521.76 Z\" fill=\"#000000\" fill-rule=\"evenodd\" fill-opacity=\"1\" /><path clip-path=\"url(#clip700)\" d=\"M 0 0 M2025.93 1521.45 L2025.93 1526.98 Q2023.44 1525.71 2020.77 1525.07 Q2018.1 1524.44 2015.23 1524.44 Q2010.87 1524.44 2008.67 1525.77 Q2006.51 1527.11 2006.51 1529.79 Q2006.51 1531.82 2008.07 1533 Q2009.63 1534.15 2014.34 1535.2 L2016.35 1535.64 Q2022.58 1536.98 2025.19 1539.43 Q2027.84 1541.85 2027.84 1546.21 Q2027.84 1551.17 2023.89 1554.07 Q2019.97 1556.97 2013.1 1556.97 Q2010.23 1556.97 2007.12 1556.39 Q2004.03 1555.85 2000.59 1554.74 L2000.59 1548.69 Q2003.84 1550.38 2006.99 1551.24 Q2010.14 1552.07 2013.23 1552.07 Q2017.36 1552.07 2019.59 1550.66 Q2021.82 1549.23 2021.82 1546.65 Q2021.82 1544.27 2020.2 1542.99 Q2018.61 1541.72 2013.16 1540.54 L2011.13 1540.07 Q2005.68 1538.92 2003.26 1536.56 Q2000.84 1534.18 2000.84 1530.04 Q2000.84 1525.01 2004.41 1522.27 Q2007.97 1519.54 2014.53 1519.54 Q2017.78 1519.54 2020.64 1520.01 Q2023.51 1520.49 2025.93 1521.45 Z\" fill=\"#000000\" fill-rule=\"evenodd\" fill-opacity=\"1\" /><path clip-path=\"url(#clip702)\" d=\"\n",
       "M258.644 160.256 L258.644 1386.4 L916.053 1386.4 L916.053 160.256 L258.644 160.256 L258.644 160.256  Z\n",
       "  \" fill=\"#009af9\" fill-rule=\"evenodd\" fill-opacity=\"1\"/>\n",
       "<polyline clip-path=\"url(#clip702)\" style=\"stroke:#000000; stroke-width:4; stroke-opacity:1; fill:none\" points=\"\n",
       "  258.644,160.256 258.644,1386.4 916.053,1386.4 916.053,160.256 258.644,160.256 \n",
       "  \"/>\n",
       "<path clip-path=\"url(#clip702)\" d=\"\n",
       "M916.053 1386.4 L916.053 1386.4 L1573.46 1386.4 L1573.46 1386.4 L916.053 1386.4 L916.053 1386.4  Z\n",
       "  \" fill=\"#009af9\" fill-rule=\"evenodd\" fill-opacity=\"1\"/>\n",
       "<polyline clip-path=\"url(#clip702)\" style=\"stroke:#000000; stroke-width:4; stroke-opacity:1; fill:none\" points=\"\n",
       "  916.053,1386.4 916.053,1386.4 1573.46,1386.4 916.053,1386.4 \n",
       "  \"/>\n",
       "<path clip-path=\"url(#clip702)\" d=\"\n",
       "M1573.46 691.583 L1573.46 1386.4 L2230.87 1386.4 L2230.87 691.583 L1573.46 691.583 L1573.46 691.583  Z\n",
       "  \" fill=\"#009af9\" fill-rule=\"evenodd\" fill-opacity=\"1\"/>\n",
       "<polyline clip-path=\"url(#clip702)\" style=\"stroke:#000000; stroke-width:4; stroke-opacity:1; fill:none\" points=\"\n",
       "  1573.46,691.583 1573.46,1386.4 2230.87,1386.4 2230.87,691.583 1573.46,691.583 \n",
       "  \"/>\n",
       "<path clip-path=\"url(#clip700)\" d=\"\n",
       "M1593.67 327.952 L2280.76 327.952 L2280.76 206.992 L1593.67 206.992  Z\n",
       "  \" fill=\"#ffffff\" fill-rule=\"evenodd\" fill-opacity=\"1\"/>\n",
       "<polyline clip-path=\"url(#clip700)\" style=\"stroke:#000000; stroke-width:4; stroke-opacity:1; fill:none\" points=\"\n",
       "  1593.67,327.952 2280.76,327.952 2280.76,206.992 1593.67,206.992 1593.67,327.952 \n",
       "  \"/>\n",
       "<path clip-path=\"url(#clip700)\" d=\"\n",
       "M1617.67 291.664 L1761.67 291.664 L1761.67 243.28 L1617.67 243.28 L1617.67 291.664  Z\n",
       "  \" fill=\"#009af9\" fill-rule=\"evenodd\" fill-opacity=\"1\"/>\n",
       "<polyline clip-path=\"url(#clip700)\" style=\"stroke:#000000; stroke-width:4; stroke-opacity:1; fill:none\" points=\"\n",
       "  1617.67,291.664 1761.67,291.664 1761.67,243.28 1617.67,243.28 1617.67,291.664 \n",
       "  \"/>\n",
       "<path clip-path=\"url(#clip700)\" d=\"M 0 0 M1785.67 250.192 L1791.97 250.192 L1807.3 279.104 L1807.3 250.192 L1811.83 250.192 L1811.83 284.752 L1805.54 284.752 L1790.21 255.84 L1790.21 284.752 L1785.67 284.752 L1785.67 250.192 Z\" fill=\"#000000\" fill-rule=\"evenodd\" fill-opacity=\"1\" /><path clip-path=\"url(#clip700)\" d=\"M 0 0 M1815.86 274.521 L1815.86 258.826 L1820.12 258.826 L1820.12 274.359 Q1820.12 278.039 1821.55 279.891 Q1822.99 281.72 1825.86 281.72 Q1829.31 281.72 1831.3 279.521 Q1833.31 277.322 1833.31 273.525 L1833.31 258.826 L1837.57 258.826 L1837.57 284.752 L1833.31 284.752 L1833.31 280.771 Q1831.76 283.132 1829.7 284.289 Q1827.67 285.423 1824.96 285.423 Q1820.49 285.423 1818.17 282.646 Q1815.86 279.868 1815.86 274.521 M1826.58 258.201 L1826.58 258.201 Z\" fill=\"#000000\" fill-rule=\"evenodd\" fill-opacity=\"1\" /><path clip-path=\"url(#clip700)\" d=\"M 0 0 M1862.23 263.803 Q1863.82 260.933 1866.04 259.567 Q1868.27 258.201 1871.28 258.201 Q1875.33 258.201 1877.53 261.049 Q1879.73 263.873 1879.73 269.104 L1879.73 284.752 L1875.44 284.752 L1875.44 269.243 Q1875.44 265.516 1874.12 263.711 Q1872.8 261.905 1870.1 261.905 Q1866.79 261.905 1864.86 264.104 Q1862.94 266.303 1862.94 270.099 L1862.94 284.752 L1858.66 284.752 L1858.66 269.243 Q1858.66 265.493 1857.34 263.711 Q1856.02 261.905 1853.27 261.905 Q1850 261.905 1848.08 264.127 Q1846.16 266.326 1846.16 270.099 L1846.16 284.752 L1841.88 284.752 L1841.88 258.826 L1846.16 258.826 L1846.16 262.854 Q1847.62 260.47 1849.66 259.336 Q1851.69 258.201 1854.49 258.201 Q1857.32 258.201 1859.29 259.637 Q1861.28 261.072 1862.23 263.803 Z\" fill=\"#000000\" fill-rule=\"evenodd\" fill-opacity=\"1\" /><path clip-path=\"url(#clip700)\" d=\"M 0 0 M1902.8 271.812 Q1902.8 267.113 1900.86 264.451 Q1898.94 261.766 1895.56 261.766 Q1892.18 261.766 1890.23 264.451 Q1888.31 267.113 1888.31 271.812 Q1888.31 276.511 1890.23 279.197 Q1892.18 281.859 1895.56 281.859 Q1898.94 281.859 1900.86 279.197 Q1902.8 276.511 1902.8 271.812 M1888.31 262.762 Q1889.66 260.447 1891.69 259.336 Q1893.75 258.201 1896.6 258.201 Q1901.32 258.201 1904.26 261.951 Q1907.23 265.701 1907.23 271.812 Q1907.23 277.923 1904.26 281.673 Q1901.32 285.423 1896.6 285.423 Q1893.75 285.423 1891.69 284.312 Q1889.66 283.178 1888.31 280.863 L1888.31 284.752 L1884.03 284.752 L1884.03 248.734 L1888.31 248.734 L1888.31 262.762 Z\" fill=\"#000000\" fill-rule=\"evenodd\" fill-opacity=\"1\" /><path clip-path=\"url(#clip700)\" d=\"M 0 0 M1933.87 270.724 L1933.87 272.808 L1914.29 272.808 Q1914.56 277.206 1916.92 279.521 Q1919.31 281.812 1923.54 281.812 Q1926 281.812 1928.29 281.21 Q1930.6 280.609 1932.87 279.405 L1932.87 283.433 Q1930.58 284.405 1928.17 284.914 Q1925.77 285.423 1923.29 285.423 Q1917.09 285.423 1913.45 281.812 Q1909.84 278.201 1909.84 272.044 Q1909.84 265.678 1913.27 261.951 Q1916.72 258.201 1922.55 258.201 Q1927.78 258.201 1930.81 261.581 Q1933.87 264.937 1933.87 270.724 M1929.61 269.474 Q1929.56 265.979 1927.64 263.896 Q1925.74 261.812 1922.6 261.812 Q1919.03 261.812 1916.88 263.826 Q1914.75 265.84 1914.42 269.498 L1929.61 269.474 Z\" fill=\"#000000\" fill-rule=\"evenodd\" fill-opacity=\"1\" /><path clip-path=\"url(#clip700)\" d=\"M 0 0 M1953.36 262.808 Q1952.64 262.391 1951.79 262.206 Q1950.95 261.998 1949.93 261.998 Q1946.32 261.998 1944.38 264.359 Q1942.46 266.697 1942.46 271.095 L1942.46 284.752 L1938.17 284.752 L1938.17 258.826 L1942.46 258.826 L1942.46 262.854 Q1943.8 260.493 1945.95 259.359 Q1948.1 258.201 1951.18 258.201 Q1951.62 258.201 1952.16 258.271 Q1952.69 258.317 1953.34 258.433 L1953.36 262.808 Z\" fill=\"#000000\" fill-rule=\"evenodd\" fill-opacity=\"1\" /><path clip-path=\"url(#clip700)\" d=\"M 0 0 M1982.94 261.812 Q1979.52 261.812 1977.53 264.498 Q1975.54 267.16 1975.54 271.812 Q1975.54 276.465 1977.5 279.15 Q1979.49 281.812 1982.94 281.812 Q1986.35 281.812 1988.34 279.127 Q1990.33 276.442 1990.33 271.812 Q1990.33 267.206 1988.34 264.521 Q1986.35 261.812 1982.94 261.812 M1982.94 258.201 Q1988.5 258.201 1991.67 261.812 Q1994.84 265.424 1994.84 271.812 Q1994.84 278.178 1991.67 281.812 Q1988.5 285.423 1982.94 285.423 Q1977.36 285.423 1974.19 281.812 Q1971.04 278.178 1971.04 271.812 Q1971.04 265.424 1974.19 261.812 Q1977.36 258.201 1982.94 258.201 Z\" fill=\"#000000\" fill-rule=\"evenodd\" fill-opacity=\"1\" /><path clip-path=\"url(#clip700)\" d=\"M 0 0 M2012.43 248.734 L2012.43 252.275 L2008.36 252.275 Q2006.07 252.275 2005.16 253.201 Q2004.28 254.127 2004.28 256.535 L2004.28 258.826 L2011.3 258.826 L2011.3 262.137 L2004.28 262.137 L2004.28 284.752 L2000 284.752 L2000 262.137 L1995.93 262.137 L1995.93 258.826 L2000 258.826 L2000 257.021 Q2000 252.692 2002.02 250.725 Q2004.03 248.734 2008.41 248.734 L2012.43 248.734 Z\" fill=\"#000000\" fill-rule=\"evenodd\" fill-opacity=\"1\" /><path clip-path=\"url(#clip700)\" d=\"M 0 0 M2032.16 250.192 L2036.83 250.192 L2036.83 280.817 L2053.66 280.817 L2053.66 284.752 L2032.16 284.752 L2032.16 250.192 Z\" fill=\"#000000\" fill-rule=\"evenodd\" fill-opacity=\"1\" /><path clip-path=\"url(#clip700)\" d=\"M 0 0 M2079.47 270.724 L2079.47 272.808 L2059.89 272.808 Q2060.16 277.206 2062.53 279.521 Q2064.91 281.812 2069.15 281.812 Q2071.6 281.812 2073.89 281.21 Q2076.21 280.609 2078.47 279.405 L2078.47 283.433 Q2076.18 284.405 2073.78 284.914 Q2071.37 285.423 2068.89 285.423 Q2062.69 285.423 2059.05 281.812 Q2055.44 278.201 2055.44 272.044 Q2055.44 265.678 2058.87 261.951 Q2062.32 258.201 2068.15 258.201 Q2073.38 258.201 2076.41 261.581 Q2079.47 264.937 2079.47 270.724 M2075.21 269.474 Q2075.16 265.979 2073.24 263.896 Q2071.34 261.812 2068.2 261.812 Q2064.63 261.812 2062.48 263.826 Q2060.35 265.84 2060.03 269.498 L2075.21 269.474 Z\" fill=\"#000000\" fill-rule=\"evenodd\" fill-opacity=\"1\" /><path clip-path=\"url(#clip700)\" d=\"M 0 0 M2102.59 259.822 L2102.59 263.803 Q2100.79 262.808 2098.96 262.322 Q2097.15 261.812 2095.3 261.812 Q2091.16 261.812 2088.87 264.451 Q2086.58 267.067 2086.58 271.812 Q2086.58 276.558 2088.87 279.197 Q2091.16 281.812 2095.3 281.812 Q2097.15 281.812 2098.96 281.326 Q2100.79 280.817 2102.59 279.822 L2102.59 283.757 Q2100.81 284.59 2098.89 285.007 Q2096.99 285.423 2094.84 285.423 Q2088.98 285.423 2085.53 281.743 Q2082.09 278.062 2082.09 271.812 Q2082.09 265.47 2085.56 261.836 Q2089.05 258.201 2095.12 258.201 Q2097.09 258.201 2098.96 258.618 Q2100.84 259.012 2102.59 259.822 Z\" fill=\"#000000\" fill-rule=\"evenodd\" fill-opacity=\"1\" /><path clip-path=\"url(#clip700)\" d=\"M 0 0 M2111.28 251.465 L2111.28 258.826 L2120.05 258.826 L2120.05 262.137 L2111.28 262.137 L2111.28 276.211 Q2111.28 279.382 2112.13 280.285 Q2113.01 281.187 2115.67 281.187 L2120.05 281.187 L2120.05 284.752 L2115.67 284.752 Q2110.74 284.752 2108.87 282.923 Q2106.99 281.072 2106.99 276.211 L2106.99 262.137 L2103.87 262.137 L2103.87 258.826 L2106.99 258.826 L2106.99 251.465 L2111.28 251.465 Z\" fill=\"#000000\" fill-rule=\"evenodd\" fill-opacity=\"1\" /><path clip-path=\"url(#clip700)\" d=\"M 0 0 M2124.08 274.521 L2124.08 258.826 L2128.34 258.826 L2128.34 274.359 Q2128.34 278.039 2129.77 279.891 Q2131.21 281.72 2134.08 281.72 Q2137.52 281.72 2139.52 279.521 Q2141.53 277.322 2141.53 273.525 L2141.53 258.826 L2145.79 258.826 L2145.79 284.752 L2141.53 284.752 L2141.53 280.771 Q2139.98 283.132 2137.92 284.289 Q2135.88 285.423 2133.17 285.423 Q2128.71 285.423 2126.39 282.646 Q2124.08 279.868 2124.08 274.521 M2134.79 258.201 L2134.79 258.201 Z\" fill=\"#000000\" fill-rule=\"evenodd\" fill-opacity=\"1\" /><path clip-path=\"url(#clip700)\" d=\"M 0 0 M2165.28 262.808 Q2164.56 262.391 2163.71 262.206 Q2162.87 261.998 2161.85 261.998 Q2158.24 261.998 2156.3 264.359 Q2154.38 266.697 2154.38 271.095 L2154.38 284.752 L2150.09 284.752 L2150.09 258.826 L2154.38 258.826 L2154.38 262.854 Q2155.72 260.493 2157.87 259.359 Q2160.02 258.201 2163.1 258.201 Q2163.54 258.201 2164.08 258.271 Q2164.61 258.317 2165.26 258.433 L2165.28 262.808 Z\" fill=\"#000000\" fill-rule=\"evenodd\" fill-opacity=\"1\" /><path clip-path=\"url(#clip700)\" d=\"M 0 0 M2190.88 270.724 L2190.88 272.808 L2171.3 272.808 Q2171.58 277.206 2173.94 279.521 Q2176.32 281.812 2180.56 281.812 Q2183.01 281.812 2185.3 281.21 Q2187.62 280.609 2189.89 279.405 L2189.89 283.433 Q2187.59 284.405 2185.19 284.914 Q2182.78 285.423 2180.3 285.423 Q2174.1 285.423 2170.46 281.812 Q2166.85 278.201 2166.85 272.044 Q2166.85 265.678 2170.28 261.951 Q2173.73 258.201 2179.56 258.201 Q2184.79 258.201 2187.83 261.581 Q2190.88 264.937 2190.88 270.724 M2186.62 269.474 Q2186.58 265.979 2184.65 263.896 Q2182.76 261.812 2179.61 261.812 Q2176.04 261.812 2173.89 263.826 Q2171.76 265.84 2171.44 269.498 L2186.62 269.474 Z\" fill=\"#000000\" fill-rule=\"evenodd\" fill-opacity=\"1\" /><path clip-path=\"url(#clip700)\" d=\"M 0 0 M2210.37 262.808 Q2209.65 262.391 2208.8 262.206 Q2207.96 261.998 2206.95 261.998 Q2203.33 261.998 2201.39 264.359 Q2199.47 266.697 2199.47 271.095 L2199.47 284.752 L2195.19 284.752 L2195.19 258.826 L2199.47 258.826 L2199.47 262.854 Q2200.81 260.493 2202.96 259.359 Q2205.12 258.201 2208.2 258.201 Q2208.64 258.201 2209.17 258.271 Q2209.7 258.317 2210.35 258.433 L2210.37 262.808 Z\" fill=\"#000000\" fill-rule=\"evenodd\" fill-opacity=\"1\" /><path clip-path=\"url(#clip700)\" d=\"M 0 0 M2231.37 259.59 L2231.37 263.618 Q2229.56 262.692 2227.62 262.229 Q2225.67 261.766 2223.59 261.766 Q2220.42 261.766 2218.82 262.738 Q2217.25 263.711 2217.25 265.655 Q2217.25 267.136 2218.38 267.993 Q2219.52 268.826 2222.94 269.59 L2224.4 269.914 Q2228.94 270.886 2230.83 272.669 Q2232.76 274.428 2232.76 277.599 Q2232.76 281.21 2229.89 283.317 Q2227.04 285.423 2222.04 285.423 Q2219.96 285.423 2217.69 285.007 Q2215.44 284.613 2212.94 283.803 L2212.94 279.405 Q2215.3 280.632 2217.59 281.257 Q2219.89 281.859 2222.13 281.859 Q2225.14 281.859 2226.76 280.84 Q2228.38 279.798 2228.38 277.923 Q2228.38 276.187 2227.2 275.261 Q2226.04 274.336 2222.08 273.479 L2220.6 273.132 Q2216.64 272.298 2214.89 270.586 Q2213.13 268.849 2213.13 265.84 Q2213.13 262.183 2215.72 260.192 Q2218.31 258.201 2223.08 258.201 Q2225.44 258.201 2227.52 258.549 Q2229.61 258.896 2231.37 259.59 Z\" fill=\"#000000\" fill-rule=\"evenodd\" fill-opacity=\"1\" /></svg>\n"
      ]
     },
     "execution_count": 60,
     "metadata": {},
     "output_type": "execute_result"
    }
   ],
   "source": [
    "#using ScikitLearn.jl\n",
    "#using Pkg\n",
    "#ENV[\"PYTHON\"] = \"\"\n",
    "#Pkg.build(\"PyCall\")\n",
    "# testing graphs\n",
    "\n",
    "#plot(x, y, title = \"Two Lines\", label = [\"Line 1\" \"Line 2\"], lw = 3)\n",
    "\n",
    "#z = [1 2 3 4]\n",
    "histogram(x[:,1],title=\"Department\", label = \"Number of Lecturers\")\n",
    "xlabel!(\"Computer Science                                  Informatics\")\n",
    "# computer science 29 info 17"
   ]
  },
  {
   "cell_type": "code",
   "execution_count": 61,
   "metadata": {},
   "outputs": [],
   "source": [
    "using ScikitLearn"
   ]
  },
  {
   "cell_type": "code",
   "execution_count": 62,
   "metadata": {},
   "outputs": [
    {
     "data": {
      "text/plain": [
       "PyObject <class 'sklearn.linear_model._logistic.LogisticRegression'>"
      ]
     },
     "execution_count": 62,
     "metadata": {},
     "output_type": "execute_result"
    }
   ],
   "source": [
    "@sk_import linear_model: LogisticRegression"
   ]
  },
  {
   "cell_type": "code",
   "execution_count": 63,
   "metadata": {},
   "outputs": [
    {
     "data": {
      "text/plain": [
       "PyObject LogisticRegression()"
      ]
     },
     "execution_count": 63,
     "metadata": {},
     "output_type": "execute_result"
    }
   ],
   "source": [
    "model = LogisticRegression(fit_intercept=true)"
   ]
  },
  {
   "cell_type": "code",
   "execution_count": 64,
   "metadata": {},
   "outputs": [
    {
     "data": {
      "text/plain": [
       "PyObject LogisticRegression()"
      ]
     },
     "execution_count": 64,
     "metadata": {},
     "output_type": "execute_result"
    }
   ],
   "source": [
    "#fit!(model,x_train,y_train)\n",
    "fit!(model,x,y) # using the whole dataset"
   ]
  },
  {
   "cell_type": "code",
   "execution_count": 65,
   "metadata": {},
   "outputs": [
    {
     "name": "stdout",
     "output_type": "stream",
     "text": [
      "0.8085106382978723\n"
     ]
    }
   ],
   "source": [
    "accuracy = sum(predict(model, x) .== y) / length(y)\n",
    "println(accuracy)"
   ]
  },
  {
   "cell_type": "code",
   "execution_count": 66,
   "metadata": {},
   "outputs": [
    {
     "data": {
      "text/plain": [
       "1-element Array{Int64,1}:\n",
       " 5"
      ]
     },
     "execution_count": 66,
     "metadata": {},
     "output_type": "execute_result"
    }
   ],
   "source": [
    "tmp = [0,0,0,0,0,0,0]\n",
    "predict(model,[x_test[2,:]])"
   ]
  },
  {
   "cell_type": "code",
   "execution_count": 67,
   "metadata": {},
   "outputs": [
    {
     "name": "stderr",
     "output_type": "stream",
     "text": [
      "┌ Warning: `getindex(o::PyObject, s::AbstractString)` is deprecated in favor of dot overloading (`getproperty`) so elements should now be accessed as e.g. `o.\"s\"` instead of `o[\"s\"]`.\n",
      "│   caller = __init__() at PyCallJLD.jl:12\n",
      "└ @ PyCallJLD /home/carlos/.julia/packages/PyCallJLD/Tfc36/src/PyCallJLD.jl:12\n",
      "┌ Warning: `getindex(o::PyObject, s::AbstractString)` is deprecated in favor of dot overloading (`getproperty`) so elements should now be accessed as e.g. `o.\"s\"` instead of `o[\"s\"]`.\n",
      "│   caller = __init__() at PyCallJLD.jl:13\n",
      "└ @ PyCallJLD /home/carlos/.julia/packages/PyCallJLD/Tfc36/src/PyCallJLD.jl:13\n"
     ]
    }
   ],
   "source": [
    "# Save the model\n",
    "import JLD, PyCallJLD"
   ]
  },
  {
   "cell_type": "code",
   "execution_count": 68,
   "metadata": {},
   "outputs": [],
   "source": [
    "JLD.save(\"CourseAllocation.jld\", \"model\", model)\n",
    "#model = JLD.load(\"CourseAllocation.jld\", \"model\") # load the model back"
   ]
  },
  {
   "cell_type": "code",
   "execution_count": 69,
   "metadata": {},
   "outputs": [
    {
     "data": {
      "text/plain": [
       "PyObject LogisticRegression()"
      ]
     },
     "execution_count": 69,
     "metadata": {},
     "output_type": "execute_result"
    }
   ],
   "source": [
    "model = JLD.load(\"CourseAllocation.jld\", \"model\") "
   ]
  }
 ],
 "metadata": {
  "kernelspec": {
   "display_name": "Julia 1.3.1",
   "language": "julia",
   "name": "julia-1.3"
  },
  "language_info": {
   "file_extension": ".jl",
   "mimetype": "application/julia",
   "name": "julia",
   "version": "1.3.1"
  }
 },
 "nbformat": 4,
 "nbformat_minor": 4
}
