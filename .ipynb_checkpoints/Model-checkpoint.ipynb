{
 "cells": [
  {
   "cell_type": "code",
   "execution_count": 1,
   "metadata": {},
   "outputs": [],
   "source": [
    "using DataFrames"
   ]
  },
  {
   "cell_type": "code",
   "execution_count": 2,
   "metadata": {},
   "outputs": [],
   "source": [
    "using CSV"
   ]
  },
  {
   "cell_type": "code",
   "execution_count": 3,
   "metadata": {},
   "outputs": [
    {
     "data": {
      "text/html": [
       "<table class=\"data-frame\"><thead><tr><th></th><th>Department</th><th>Interest in Programming</th><th>Interest in Data Base</th><th>Interest in Math/statistics</th></tr><tr><th></th><th>String</th><th>String</th><th>String</th><th>String</th></tr></thead><tbody><p>46 rows × 8 columns (omitted printing of 4 columns)</p><tr><th>1</th><td>Computer Science</td><td>YES</td><td>YES</td><td>YES</td></tr><tr><th>2</th><td>Computer Science</td><td>YES</td><td>YES</td><td>YES</td></tr><tr><th>3</th><td>Computer Science</td><td>YES</td><td>YES</td><td>No</td></tr><tr><th>4</th><td>Computer Science</td><td>YES</td><td>No</td><td>No</td></tr><tr><th>5</th><td>Informatics</td><td>YES</td><td>YES</td><td>YES</td></tr><tr><th>6</th><td>Computer Science</td><td>YES</td><td>YES</td><td>No</td></tr><tr><th>7</th><td>Computer Science</td><td>YES</td><td>YES</td><td>YES</td></tr><tr><th>8</th><td>Informatics</td><td>No</td><td>YES</td><td>No</td></tr><tr><th>9</th><td>Computer Science</td><td>No</td><td>YES</td><td>YES</td></tr><tr><th>10</th><td>Informatics</td><td>YES</td><td>No</td><td>No</td></tr><tr><th>11</th><td>Computer Science</td><td>YES</td><td>YES</td><td>No</td></tr><tr><th>12</th><td>Informatics</td><td>No</td><td>YES</td><td>No</td></tr><tr><th>13</th><td>Computer Science</td><td>YES</td><td>YES</td><td>YES</td></tr><tr><th>14</th><td>Informatics</td><td>YES</td><td>YES</td><td>No</td></tr><tr><th>15</th><td>Computer Science</td><td>YES</td><td>YES</td><td>YES</td></tr><tr><th>16</th><td>Informatics</td><td>YES</td><td>YES</td><td>YES</td></tr><tr><th>17</th><td>Computer Science</td><td>YES</td><td>YES</td><td>YES</td></tr><tr><th>18</th><td>Informatics</td><td>YES</td><td>No</td><td>YES</td></tr><tr><th>19</th><td>Computer Science</td><td>YES</td><td>YES</td><td>No</td></tr><tr><th>20</th><td>Computer Science</td><td>YES</td><td>YES</td><td>No</td></tr><tr><th>21</th><td>Computer Science</td><td>YES</td><td>YES</td><td>No</td></tr><tr><th>22</th><td>Computer Science</td><td>YES</td><td>YES</td><td>YES</td></tr><tr><th>23</th><td>Computer Science</td><td>YES</td><td>YES</td><td>YES</td></tr><tr><th>24</th><td>Informatics</td><td>YES</td><td>No</td><td>YES</td></tr><tr><th>25</th><td>Computer Science</td><td>YES</td><td>YES</td><td>No</td></tr><tr><th>26</th><td>Computer Science</td><td>No</td><td>No</td><td>YES</td></tr><tr><th>27</th><td>Informatics</td><td>YES</td><td>YES</td><td>YES</td></tr><tr><th>28</th><td>Informatics</td><td>No</td><td>No</td><td>No</td></tr><tr><th>29</th><td>Computer Science</td><td>YES</td><td>YES</td><td>No</td></tr><tr><th>30</th><td>Computer Science</td><td>YES</td><td>YES</td><td>No</td></tr><tr><th>&vellip;</th><td>&vellip;</td><td>&vellip;</td><td>&vellip;</td><td>&vellip;</td></tr></tbody></table>"
      ],
      "text/latex": [
       "\\begin{tabular}{r|ccccc}\n",
       "\t& Department & Interest in Programming & Interest in Data Base & Interest in Math/statistics & \\\\\n",
       "\t\\hline\n",
       "\t& String & String & String & String & \\\\\n",
       "\t\\hline\n",
       "\t1 & Computer Science & YES & YES & YES & $\\dots$ \\\\\n",
       "\t2 & Computer Science & YES & YES & YES & $\\dots$ \\\\\n",
       "\t3 & Computer Science & YES & YES & No & $\\dots$ \\\\\n",
       "\t4 & Computer Science & YES & No & No & $\\dots$ \\\\\n",
       "\t5 & Informatics & YES & YES & YES & $\\dots$ \\\\\n",
       "\t6 & Computer Science & YES & YES & No & $\\dots$ \\\\\n",
       "\t7 & Computer Science & YES & YES & YES & $\\dots$ \\\\\n",
       "\t8 & Informatics & No & YES & No & $\\dots$ \\\\\n",
       "\t9 & Computer Science & No & YES & YES & $\\dots$ \\\\\n",
       "\t10 & Informatics & YES & No & No & $\\dots$ \\\\\n",
       "\t11 & Computer Science & YES & YES & No & $\\dots$ \\\\\n",
       "\t12 & Informatics & No & YES & No & $\\dots$ \\\\\n",
       "\t13 & Computer Science & YES & YES & YES & $\\dots$ \\\\\n",
       "\t14 & Informatics & YES & YES & No & $\\dots$ \\\\\n",
       "\t15 & Computer Science & YES & YES & YES & $\\dots$ \\\\\n",
       "\t16 & Informatics & YES & YES & YES & $\\dots$ \\\\\n",
       "\t17 & Computer Science & YES & YES & YES & $\\dots$ \\\\\n",
       "\t18 & Informatics & YES & No & YES & $\\dots$ \\\\\n",
       "\t19 & Computer Science & YES & YES & No & $\\dots$ \\\\\n",
       "\t20 & Computer Science & YES & YES & No & $\\dots$ \\\\\n",
       "\t21 & Computer Science & YES & YES & No & $\\dots$ \\\\\n",
       "\t22 & Computer Science & YES & YES & YES & $\\dots$ \\\\\n",
       "\t23 & Computer Science & YES & YES & YES & $\\dots$ \\\\\n",
       "\t24 & Informatics & YES & No & YES & $\\dots$ \\\\\n",
       "\t25 & Computer Science & YES & YES & No & $\\dots$ \\\\\n",
       "\t26 & Computer Science & No & No & YES & $\\dots$ \\\\\n",
       "\t27 & Informatics & YES & YES & YES & $\\dots$ \\\\\n",
       "\t28 & Informatics & No & No & No & $\\dots$ \\\\\n",
       "\t29 & Computer Science & YES & YES & No & $\\dots$ \\\\\n",
       "\t30 & Computer Science & YES & YES & No & $\\dots$ \\\\\n",
       "\t$\\dots$ & $\\dots$ & $\\dots$ & $\\dots$ & $\\dots$ &  \\\\\n",
       "\\end{tabular}\n"
      ],
      "text/plain": [
       "46×8 DataFrame. Omitted printing of 5 columns\n",
       "│ Row │ Department       │ Interest in Programming │ Interest in Data Base │\n",
       "│     │ \u001b[90mString\u001b[39m           │ \u001b[90mString\u001b[39m                  │ \u001b[90mString\u001b[39m                │\n",
       "├─────┼──────────────────┼─────────────────────────┼───────────────────────┤\n",
       "│ 1   │ Computer Science │ YES                     │ YES                   │\n",
       "│ 2   │ Computer Science │ YES                     │ YES                   │\n",
       "│ 3   │ Computer Science │ YES                     │ YES                   │\n",
       "│ 4   │ Computer Science │ YES                     │ No                    │\n",
       "│ 5   │ Informatics      │ YES                     │ YES                   │\n",
       "│ 6   │ Computer Science │ YES                     │ YES                   │\n",
       "│ 7   │ Computer Science │ YES                     │ YES                   │\n",
       "│ 8   │ Informatics      │ No                      │ YES                   │\n",
       "│ 9   │ Computer Science │ No                      │ YES                   │\n",
       "│ 10  │ Informatics      │ YES                     │ No                    │\n",
       "⋮\n",
       "│ 36  │ Computer Science │ YES                     │ YES                   │\n",
       "│ 37  │ Computer Science │ YES                     │ YES                   │\n",
       "│ 38  │ Informatics      │ YES                     │ YES                   │\n",
       "│ 39  │ Informatics      │ No                      │ YES                   │\n",
       "│ 40  │ Computer Science │ YES                     │ YES                   │\n",
       "│ 41  │ Informatics      │ YES                     │ YES                   │\n",
       "│ 42  │ Computer Science │ YES                     │ YES                   │\n",
       "│ 43  │ Computer Science │ YES                     │ YES                   │\n",
       "│ 44  │ Informatics      │ YES                     │ YES                   │\n",
       "│ 45  │ Computer Science │ YES                     │ YES                   │\n",
       "│ 46  │ Computer Science │ YES                     │ YES                   │"
      ]
     },
     "execution_count": 3,
     "metadata": {},
     "output_type": "execute_result"
    }
   ],
   "source": [
    "df = CSV.read(\"dataset.csv\")\n",
    "df = select(df,Not(1,3,9,10,12,13)) # remove some columns"
   ]
  },
  {
   "cell_type": "code",
   "execution_count": 4,
   "metadata": {},
   "outputs": [
    {
     "data": {
      "text/plain": [
       "46×8 Array{Any,2}:\n",
       " \"Computer Science\"  \"YES\"  \"YES\"  \"YES\"  \"No\"   …  \"Programming 1\"         \n",
       " \"Computer Science\"  \"YES\"  \"YES\"  \"YES\"  \"YES\"     \"Artificial Inteligence\"\n",
       " \"Computer Science\"  \"YES\"  \"YES\"  \"No\"   \"YES\"     \"Data Structure\"        \n",
       " \"Computer Science\"  \"YES\"  \"No\"   \"No\"   \"No\"      \"Data Mining\"           \n",
       " \"Informatics\"       \"YES\"  \"YES\"  \"YES\"  \"YES\"     \"Database Fundamentals\" \n",
       " \"Computer Science\"  \"YES\"  \"YES\"  \"No\"   \"YES\"  …  \"Advanced Programming\"  \n",
       " \"Computer Science\"  \"YES\"  \"YES\"  \"YES\"  \"YES\"     \"Data Mining\"           \n",
       " \"Informatics\"       \"No\"   \"YES\"  \"No\"   \"YES\"     \"Database Fundamentals\" \n",
       " \"Computer Science\"  \"No\"   \"YES\"  \"YES\"  \"YES\"     \"Database Fundamentals\" \n",
       " \"Informatics\"       \"YES\"  \"No\"   \"No\"   \"YES\"     \"Intro to C Network\"    \n",
       " \"Computer Science\"  \"YES\"  \"YES\"  \"No\"   \"YES\"  …  \"Programming 2\"         \n",
       " \"Informatics\"       \"No\"   \"YES\"  \"No\"   \"YES\"     \"Database Fundamentals\" \n",
       " \"Computer Science\"  \"YES\"  \"YES\"  \"YES\"  \"YES\"     \"Data Mining\"           \n",
       " ⋮                                               ⋱                          \n",
       " \"Informatics\"       \"No\"   \"YES\"  \"No\"   \"YES\"     \"Database Fundamentals\" \n",
       " \"Computer Science\"  \"YES\"  \"YES\"  \"No\"   \"YES\"  …  \"Intro to C Network\"    \n",
       " \"Computer Science\"  \"YES\"  \"YES\"  \"No\"   \"YES\"     \"Dara Structure\"        \n",
       " \"Informatics\"       \"YES\"  \"YES\"  \"YES\"  \"YES\"     \"Web Dev Fundamentals\"  \n",
       " \"Informatics\"       \"No\"   \"YES\"  \"No\"   \"YES\"     \"Database Fundamentals\" \n",
       " \"Computer Science\"  \"YES\"  \"YES\"  \"No\"   \"YES\"     \"Intro to C Network\"    \n",
       " \"Informatics\"       \"YES\"  \"YES\"  \"YES\"  \"YES\"  …  \"Web Dev Fundamentals\"  \n",
       " \"Computer Science\"  \"YES\"  \"YES\"  \"YES\"  \"YES\"     \"Programming 1\"         \n",
       " \"Computer Science\"  \"YES\"  \"YES\"  \"YES\"  \"YES\"     \"Artificial Inteligence\"\n",
       " \"Informatics\"       \"YES\"  \"YES\"  \"YES\"  \"YES\"     \"Web Dev Fundamentals\"  \n",
       " \"Computer Science\"  \"YES\"  \"YES\"  \"YES\"  \"YES\"     \"Artificial Inteligence\"\n",
       " \"Computer Science\"  \"YES\"  \"YES\"  \"YES\"  \"YES\"  …  \"Artificial Inteligence\""
      ]
     },
     "execution_count": 4,
     "metadata": {},
     "output_type": "execute_result"
    }
   ],
   "source": [
    "dataset = convert(Matrix{Any},df)"
   ]
  },
  {
   "cell_type": "code",
   "execution_count": 61,
   "metadata": {},
   "outputs": [
    {
     "name": "stdout",
     "output_type": "stream",
     "text": [
      "Any[\"Computer Science\" \"YES\" \"YES\" \"YES\" \"No\" \"No\" \"Junior Lecturer\" \"Programming 1\"; \"Computer Science\" \"YES\" \"YES\" \"YES\" \"YES\" \"No\" \"Senior Lecturer\" \"Artificial Inteligence\"; \"Computer Science\" \"YES\" \"YES\" \"No\" \"YES\" \"No\" \"Senior Lecturer\" \"Data Structure\"; \"Computer Science\" \"YES\" \"No\" \"No\" \"No\" \"No\" \"Professor\" \"Data Mining\"; \"Informatics\" \"YES\" \"YES\" \"YES\" \"YES\" \"No\" \"Senior Lecturer\" \"Database Fundamentals\"; \"Computer Science\" \"YES\" \"YES\" \"No\" \"YES\" \"No\" \"Junior Lecturer\" \"Advanced Programming\"; \"Computer Science\" \"YES\" \"YES\" \"YES\" \"YES\" \"No\" \"Senior Lecturer\" \"Data Mining\"; \"Informatics\" \"No\" \"YES\" \"No\" \"YES\" \"No\" \"Lecturer\" \"Database Fundamentals\"; \"Computer Science\" \"No\" \"YES\" \"YES\" \"YES\" \"No\" \"Junior Lecturer\" \"Database Fundamentals\"; \"Informatics\" \"YES\" \"No\" \"No\" \"YES\" \"No\" \"Junior Lecturer\" \"Intro to C Network\"; \"Computer Science\" \"YES\" \"YES\" \"No\" \"YES\" \"No\" \"Senior Lecturer\" \"Programming 2\"; \"Informatics\" \"No\" \"YES\" \"No\" \"YES\" \"No\" \"Senior Lecturer\" \"Database Fundamentals\"; \"Computer Science\" \"YES\" \"YES\" \"YES\" \"YES\" \"No\" \"Lecturer\" \"Data Mining\"; \"Informatics\" \"YES\" \"YES\" \"No\" \"YES\" \"No\" \"Professor\" \"Intro to C Network\"; \"Computer Science\" \"YES\" \"YES\" \"YES\" \"YES\" \"No\" \"Professor\" \"Artificial Inteligence\"; \"Informatics\" \"YES\" \"YES\" \"YES\" \"YES\" \"No\" \"Lecturer\" \"Web Dev Fundamentals\"; \"Computer Science\" \"YES\" \"YES\" \"YES\" \"YES\" \"No\" \"Junior Lecturer\" \"Programming 1\"; \"Informatics\" \"YES\" \"No\" \"YES\" \"YES\" \"No\" \"Senior Lecturer\" \"Intro to C Network\"; \"Computer Science\" \"YES\" \"YES\" \"No\" \"YES\" \"YES\" \"Professor\" \"Intro to C Network\"; \"Computer Science\" \"YES\" \"YES\" \"No\" \"YES\" \"YES\" \"Lecturer\" \"Intro to C Network\"; \"Computer Science\" \"YES\" \"YES\" \"No\" \"YES\" \"YES\" \"Lecturer\" \"IT System Security\"; \"Computer Science\" \"YES\" \"YES\" \"YES\" \"No\" \"YES\" \"Professor\" \"Data Mining\"; \"Computer Science\" \"YES\" \"YES\" \"YES\" \"YES\" \"YES\" \"Junior Lecturer\" \"IT System Security\"; \"Informatics\" \"YES\" \"No\" \"YES\" \"No\" \"YES\" \"Senior Lecturer\" \"IT System Security\"; \"Computer Science\" \"YES\" \"YES\" \"No\" \"No\" \"YES\" \"Senior Lecturer\" \"IT System Security\"; \"Computer Science\" \"No\" \"No\" \"YES\" \"YES\" \"No\" \"Lecturer\" \"Intro to C Network\"; \"Informatics\" \"YES\" \"YES\" \"YES\" \"YES\" \"YES\" \"Senior Lecturer\" \"IT System Security\"; \"Informatics\" \"No\" \"No\" \"No\" \"YES\" \"YES\" \"Senior Lecturer\" \"IT System Security\"; \"Computer Science\" \"YES\" \"YES\" \"No\" \"YES\" \"No\" \"Professor\" \"Dara Structure\"; \"Computer Science\" \"YES\" \"YES\" \"No\" \"YES\" \"No\" \"Professor\" \"Data Mining\"; \"Computer Science\" \"YES\" \"YES\" \"No\" \"YES\" \"No\" \"Professor\" \"Database Fundamentals\"; \"Informatics\" \"No\" \"YES\" \"No\" \"YES\" \"No\" \"Lecturer\" \"Intro to C Network\"]"
     ]
    }
   ],
   "source": [
    "# convert the strings into number\n",
    "print(dataset)"
   ]
  },
  {
   "cell_type": "code",
   "execution_count": 5,
   "metadata": {},
   "outputs": [
    {
     "data": {
      "text/plain": [
       "pValues (generic function with 1 method)"
      ]
     },
     "execution_count": 5,
     "metadata": {},
     "output_type": "execute_result"
    }
   ],
   "source": [
    "# get the list of possible values\n",
    "function pValues(column)\n",
    "    values = []\n",
    "    count = 0\n",
    "    for c in column\n",
    "        for v in values\n",
    "            if(c == v)\n",
    "                count = 1 + count\n",
    "            end\n",
    "        end\n",
    "        if(count == 0)\n",
    "            push!(values,c)\n",
    "        end\n",
    "        count = 0\n",
    "    end\n",
    "    return values\n",
    "end"
   ]
  },
  {
   "cell_type": "code",
   "execution_count": 6,
   "metadata": {},
   "outputs": [
    {
     "data": {
      "text/plain": [
       "categoricalData (generic function with 1 method)"
      ]
     },
     "execution_count": 6,
     "metadata": {},
     "output_type": "execute_result"
    }
   ],
   "source": [
    "\n",
    "# change strings to number\n",
    "function categoricalData(column,values)\n",
    "    for c in 1:size(column,1)\n",
    "        for i in 1:size(values,1)\n",
    "            if(column[c] == values[i])\n",
    "                column[c] = i\n",
    "            end\n",
    "        end\n",
    "    end\n",
    "    return column\n",
    "end"
   ]
  },
  {
   "cell_type": "code",
   "execution_count": 7,
   "metadata": {},
   "outputs": [
    {
     "data": {
      "text/plain": [
       "binaryData (generic function with 1 method)"
      ]
     },
     "execution_count": 7,
     "metadata": {},
     "output_type": "execute_result"
    }
   ],
   "source": [
    "# binary data\n",
    "function binaryData(column)\n",
    "    for i in 1:size(column,1)\n",
    "        if(column[i] == \"YES\")\n",
    "            column[i] = 1\n",
    "        else\n",
    "            column[i] = 0\n",
    "        end\n",
    "    end\n",
    "    return column\n",
    "end"
   ]
  },
  {
   "cell_type": "code",
   "execution_count": 8,
   "metadata": {},
   "outputs": [
    {
     "name": "stdout",
     "output_type": "stream",
     "text": [
      "Any[\"Programming 1\", \"Artificial Inteligence\", \"Data Structure\", \"Data Mining\", \"Database Fundamentals\", \"Advanced Programming\", \"Intro to C Network\", \"Programming 2\", \"Web Dev Fundamentals\", \"IT System Security\", \"Dara Structure\"]"
     ]
    },
    {
     "data": {
      "text/plain": [
       "46-element Array{Any,1}:\n",
       "  1\n",
       "  2\n",
       "  3\n",
       "  4\n",
       "  5\n",
       "  6\n",
       "  4\n",
       "  5\n",
       "  5\n",
       "  7\n",
       "  8\n",
       "  5\n",
       "  4\n",
       "  ⋮\n",
       "  5\n",
       "  7\n",
       " 11\n",
       "  9\n",
       "  5\n",
       "  7\n",
       "  9\n",
       "  1\n",
       "  2\n",
       "  9\n",
       "  2\n",
       "  2"
      ]
     },
     "execution_count": 8,
     "metadata": {},
     "output_type": "execute_result"
    }
   ],
   "source": [
    "#dataset[:,1] = categoricalData(dataset[:,1],pValues(dataset[:,1]))\n",
    "dataset[:,1] = categoricalData(dataset[:,1],pValues(dataset[:,1]))\n",
    "dataset[:,2] = binaryData(dataset[:,2])\n",
    "dataset[:,3] = binaryData(dataset[:,3])\n",
    "dataset[:,4] = binaryData(dataset[:,4])\n",
    "dataset[:,5] = binaryData(dataset[:,5])\n",
    "dataset[:,6] = binaryData(dataset[:,6])\n",
    "dataset[:,7] = categoricalData(dataset[:,7],pValues(dataset[:,7]))\n",
    "print(pValues(dataset[:,8]))\n",
    "dataset[:,8] = categoricalData(dataset[:,8],pValues(dataset[:,8]))\n"
   ]
  },
  {
   "cell_type": "code",
   "execution_count": 9,
   "metadata": {},
   "outputs": [
    {
     "data": {
      "text/plain": [
       "10×1 Array{Any,2}:\n",
       " 11\n",
       "  9\n",
       "  5\n",
       "  7\n",
       "  9\n",
       "  1\n",
       "  2\n",
       "  9\n",
       "  2\n",
       "  2"
      ]
     },
     "execution_count": 9,
     "metadata": {},
     "output_type": "execute_result"
    }
   ],
   "source": [
    "i = size(dataset,1)\n",
    "x = dataset[:,1:7]\n",
    "x_train = x[1:trunc(Int,i * 0.8),:]\n",
    "x_test = x[trunc(Int,i * 0.8)+1:i,:]\n",
    "\n",
    "y = dataset[:,8]\n",
    "y_train = y[1:trunc(Int,i * 0.8),:]\n",
    "y_test = y[trunc(Int,i * 0.8)+1:i,:]"
   ]
  },
  {
   "cell_type": "code",
   "execution_count": null,
   "metadata": {},
   "outputs": [],
   "source": [
    "#using ScikitLearn.jl\n",
    "using Pkg\n",
    "ENV[\"PYTHON\"] = \"\"\n",
    "Pkg.build(\"PyCall\")"
   ]
  },
  {
   "cell_type": "code",
   "execution_count": 10,
   "metadata": {},
   "outputs": [
    {
     "name": "stderr",
     "output_type": "stream",
     "text": [
      "┌ Info: Precompiling ScikitLearn [3646fa90-6ef7-5e7e-9f22-8aca16db6324]\n",
      "└ @ Base loading.jl:1273\n"
     ]
    }
   ],
   "source": [
    "using ScikitLearn"
   ]
  },
  {
   "cell_type": "code",
   "execution_count": 11,
   "metadata": {},
   "outputs": [
    {
     "data": {
      "text/plain": [
       "PyObject <class 'sklearn.linear_model._logistic.LogisticRegression'>"
      ]
     },
     "execution_count": 11,
     "metadata": {},
     "output_type": "execute_result"
    }
   ],
   "source": [
    "@sk_import linear_model: LogisticRegression"
   ]
  },
  {
   "cell_type": "code",
   "execution_count": 12,
   "metadata": {},
   "outputs": [
    {
     "data": {
      "text/plain": [
       "PyObject LogisticRegression()"
      ]
     },
     "execution_count": 12,
     "metadata": {},
     "output_type": "execute_result"
    }
   ],
   "source": [
    "model = LogisticRegression(fit_intercept=true)"
   ]
  },
  {
   "cell_type": "code",
   "execution_count": 36,
   "metadata": {},
   "outputs": [
    {
     "data": {
      "text/plain": [
       "PyObject LogisticRegression()"
      ]
     },
     "execution_count": 36,
     "metadata": {},
     "output_type": "execute_result"
    }
   ],
   "source": [
    "\n",
    "fit!(model,x_train,y_train)"
   ]
  },
  {
   "cell_type": "code",
   "execution_count": 37,
   "metadata": {},
   "outputs": [
    {
     "name": "stdout",
     "output_type": "stream",
     "text": [
      "0.6666666666666666\n"
     ]
    }
   ],
   "source": [
    "accuracy = sum(predict(model, x_train) .== y_train) / length(y_train)\n",
    "println(accuracy)"
   ]
  },
  {
   "cell_type": "code",
   "execution_count": 39,
   "metadata": {},
   "outputs": [
    {
     "data": {
      "text/plain": [
       "1-element Array{Int64,1}:\n",
       " 9"
      ]
     },
     "execution_count": 39,
     "metadata": {},
     "output_type": "execute_result"
    }
   ],
   "source": [
    "tmp = [0,0,0,0,0,0,0]\n",
    "predict(model,[x_test[2,:]])"
   ]
  },
  {
   "cell_type": "code",
   "execution_count": 60,
   "metadata": {},
   "outputs": [
    {
     "name": "stdout",
     "output_type": "stream",
     "text": [
      "[2 1 1 1 1 0 4; 0 0 0 0 0 0 0]\n",
      "Any[1 1 1 0 1 0 3; 2 1 1 1 1 0 4; 2 0 1 0 1 0 2; 1 1 1 0 1 1 4; 2 1 1 1 1 0 4; 1 1 1 1 1 0 1; 1 1 1 1 1 0 2; 2 1 1 1 1 0 4; 1 1 1 1 1 0 2; 1 1 1 1 1 0 3]\n"
     ]
    }
   ],
   "source": [
    "#y_test\n",
    "#=\n",
    "println(x_test[2,:])\n",
    "println([2,1,1,1,1,0,4])\n",
    "val = Array{Any}=#\n",
    "val =[2 1 1 1 1 0 4; 0 0 0 0 0 0 0]\n",
    "println(val)\n",
    "println(x_test)"
   ]
  },
  {
   "cell_type": "code",
   "execution_count": 42,
   "metadata": {},
   "outputs": [],
   "source": [
    "# Save the model\n",
    "import JLD, PyCallJLD"
   ]
  },
  {
   "cell_type": "code",
   "execution_count": 45,
   "metadata": {},
   "outputs": [],
   "source": [
    "JLD.save(\"CourseAllocation.jld\", \"model\", model)\n",
    "#model = JLD.load(\"CourseAllocation.jld\", \"model\") # load the model back"
   ]
  },
  {
   "cell_type": "code",
   "execution_count": 46,
   "metadata": {},
   "outputs": [
    {
     "data": {
      "text/plain": [
       "PyObject LogisticRegression()"
      ]
     },
     "execution_count": 46,
     "metadata": {},
     "output_type": "execute_result"
    }
   ],
   "source": [
    "model = JLD.load(\"CourseAllocation.jld\", \"model\") "
   ]
  }
 ],
 "metadata": {
  "kernelspec": {
   "display_name": "Julia 1.3.1",
   "language": "julia",
   "name": "julia-1.3"
  },
  "language_info": {
   "file_extension": ".jl",
   "mimetype": "application/julia",
   "name": "julia",
   "version": "1.3.1"
  }
 },
 "nbformat": 4,
 "nbformat_minor": 4
}
